{
 "cells": [
  {
   "cell_type": "markdown",
   "metadata": {
    "id": "y5Eqot3dsddy"
   },
   "source": [
    "# Create Cloud Free Sentinel Mosaic\n",
    "This notebook was designed to run in **Google Colab**.\n",
    "It uses the Earth Engine Python API to generate cloud-free Sentinel-2 composites\n",
    "over your area of interest, defined from a local shapefile or GeoJSON.\n",
    "\n",
    "Getting Started:\n",
    "- Upload your shapefile or GeoJSON to Colab (or mount Google Drive)\n",
    "- Authenticate your Earth Engine account when prompted\n",
    "- Run the notebook below to generate a mosaic and visualize it on an interactive map"
   ]
  },
  {
   "cell_type": "markdown",
   "metadata": {
    "id": "zeEwZR00uneE"
   },
   "source": [
    "⚠️ If you're not in Colab, you may need to adapt file paths and authentication flow."
   ]
  },
  {
   "cell_type": "code",
   "execution_count": 1,
   "metadata": {
    "id": "RMLc2pXBsssA"
   },
   "outputs": [],
   "source": [
    "import os\n",
    "import geopandas as gpd\n",
    "from pathlib import Path\n",
    "import pandas as pd\n",
    "import numpy as np\n",
    "import matplotlib.pyplot as plt\n",
    "import json\n",
    "import ee"
   ]
  },
  {
   "cell_type": "code",
   "execution_count": 2,
   "metadata": {
    "id": "MdEL2j--stsR"
   },
   "outputs": [],
   "source": [
    "# install geemap package\n",
    "import subprocess\n",
    "\n",
    "try:\n",
    "    import geemap\n",
    "except ImportError:\n",
    "    print('geemap package not installed. Installing ...')\n",
    "    subprocess.check_call([\"python\", '-m', 'pip', 'install', 'geemap']) # geemap Python package is built upon ipyleaflet and folium packages"
   ]
  },
  {
   "cell_type": "markdown",
   "metadata": {
    "id": "WCFE_dpPsjrp"
   },
   "source": [
    "## 1. Authenticate and Initialize GEE"
   ]
  },
  {
   "cell_type": "code",
   "execution_count": null,
   "metadata": {
    "colab": {
     "base_uri": "https://localhost:8080/",
     "height": 17
    },
    "id": "-s6R6XLea6MN",
    "outputId": "89df7a1a-a045-47e1-f025-4d6e6f5bdd81"
   },
   "outputs": [],
   "source": [
    "try:\n",
    "  ee.Initialize()\n",
    "except Exception as e:\n",
    "  ee.Authenticate()\n",
    "  ee.Initialize(project = \"ee-zmondo\")"
   ]
  },
  {
   "cell_type": "markdown",
   "metadata": {
    "id": "nun1Vnmss50a"
   },
   "source": [
    "## 2. Load AOI from shapefile / GeoJSON"
   ]
  },
  {
   "cell_type": "code",
   "execution_count": null,
   "metadata": {
    "colab": {
     "base_uri": "https://localhost:8080/",
     "height": 17
    },
    "id": "s6sDzn70tXkT",
    "outputId": "278d97be-ce91-47d1-e4de-00bd0686ca91"
   },
   "outputs": [],
   "source": [
    "# Get path to cwd and set project root\n",
    "project_root = Path('/content')\n",
    "bbox_path = project_root / 'gedi_waveforms_tf_bbox.geojson'"
   ]
  },
  {
   "cell_type": "code",
   "execution_count": null,
   "metadata": {
    "colab": {
     "base_uri": "https://localhost:8080/",
     "height": 17
    },
    "id": "_UpsIER-tBll",
    "outputId": "ab48e9a4-ce25-4abb-b666-a6c06b6872d1"
   },
   "outputs": [],
   "source": [
    "# Load bounding box geojson as a GeoDataFrame\n",
    "bbox_gdf = gpd.read_file(bbox_path).to_crs(\"EPSG:4326\")"
   ]
  },
  {
   "cell_type": "code",
   "execution_count": null,
   "metadata": {
    "colab": {
     "base_uri": "https://localhost:8080/",
     "height": 17
    },
    "id": "Ykn2WYVQvlxL",
    "outputId": "55c19e8d-5f33-4275-eae0-2dab0380532c"
   },
   "outputs": [],
   "source": [
    "from shapely.geometry import mapping\n",
    "\n",
    "# Convert to an Earth Engine readable format (ee.FeatureCollection)\n",
    "def gdf_to_ee(gdf):\n",
    "  features = []\n",
    "  for _, row in gdf.iterrows():\n",
    "    geom_dict = mapping(row.geometry)\n",
    "    attrs = row.drop('geometry').to_dict()\n",
    "    feature = ee.Feature(geom_dict, attrs)\n",
    "    features.append(feature)\n",
    "  return ee.FeatureCollection(features)\n"
   ]
  },
  {
   "cell_type": "markdown",
   "metadata": {
    "id": "xjScLT7axlM8"
   },
   "source": [
    "## 3. Define spatial and temporal boundaries"
   ]
  },
  {
   "cell_type": "code",
   "execution_count": 8,
   "metadata": {
    "colab": {
     "base_uri": "https://localhost:8080/",
     "height": 17
    },
    "id": "RKZZnEAxwNQD",
    "outputId": "19bf8106-b427-44fa-9be7-c9bb8ead1635"
   },
   "outputs": [
    {
     "data": {
      "text/html": [
       "\n",
       "            <style>\n",
       "                .geemap-dark {\n",
       "                    --jp-widgets-color: white;\n",
       "                    --jp-widgets-label-color: white;\n",
       "                    --jp-ui-font-color1: white;\n",
       "                    --jp-layout-color2: #454545;\n",
       "                    background-color: #383838;\n",
       "                }\n",
       "\n",
       "                .geemap-dark .jupyter-button {\n",
       "                    --jp-layout-color3: #383838;\n",
       "                }\n",
       "\n",
       "                .geemap-colab {\n",
       "                    background-color: var(--colab-primary-surface-color, white);\n",
       "                }\n",
       "\n",
       "                .geemap-colab .jupyter-button {\n",
       "                    --jp-layout-color3: var(--colab-primary-surface-color, white);\n",
       "                }\n",
       "            </style>\n",
       "            "
      ],
      "text/plain": [
       "<IPython.core.display.HTML object>"
      ]
     },
     "metadata": {},
     "output_type": "display_data"
    }
   ],
   "source": [
    "AOI = gdf_to_ee(bbox_gdf)\n",
    "START_DATE = '2021-03-15'\n",
    "END_DATE = '2021-12-05'"
   ]
  },
  {
   "cell_type": "markdown",
   "metadata": {
    "id": "JJ-oMMsvx45x"
   },
   "source": [
    "## 4. Cloud masking Sentinel-2 with s2_cloudless and Mosaicking"
   ]
  },
  {
   "cell_type": "code",
   "execution_count": null,
   "metadata": {
    "colab": {
     "base_uri": "https://localhost:8080/",
     "height": 17
    },
    "id": "5xY7CJmvx8pw",
    "outputId": "a5a9e4d4-db43-43a4-a20e-2d170504653a"
   },
   "outputs": [],
   "source": [
    "# Define masking parameters\n",
    "CLOUD_FILTER = 100\n",
    "CLD_PRB_THRESH = 30\n",
    "NIR_DRK_THRESH = 0.15\n",
    "CLD_PRJ_DIST = 1\n",
    "BUFFER = 50\n",
    "SR_SCALE = 1e4\n",
    "\n",
    "# Filter and join S2_SR_HARMONIZED with cloud probability\n",
    "def get_s2_sr_cld_col(aoi, start_date, end_date):\n",
    "    s2_sr = ee.ImageCollection(\"COPERNICUS/S2_SR_HARMONIZED\") \\\n",
    "        .filterBounds(aoi) \\\n",
    "        .filterDate(start_date, end_date) \\\n",
    "        .filter(ee.Filter.lte('CLOUDY_PIXEL_PERCENTAGE', CLOUD_FILTER))\n",
    "\n",
    "    s2_cld = ee.ImageCollection(\"COPERNICUS/S2_CLOUD_PROBABILITY\") \\\n",
    "        .filterBounds(aoi) \\\n",
    "        .filterDate(start_date, end_date)\n",
    "\n",
    "    # Join collections by system:index\n",
    "    joined = ee.Join.saveFirst('s2cloudless').apply(**{\n",
    "        'primary': s2_sr,\n",
    "        'secondary': s2_cld,\n",
    "        'condition': ee.Filter.equals(leftField='system:index', rightField='system:index')\n",
    "    })\n",
    "\n",
    "    return ee.ImageCollection(joined)\n",
    "\n",
    "# Cloud detection\n",
    "def add_cloud_bands(img):\n",
    "    cld_prb = ee.Image(img.get('s2cloudless')).select('probability')\n",
    "    is_cloud = cld_prb.gt(CLD_PRB_THRESH).rename('clouds')\n",
    "    return img.addBands([cld_prb.rename('cloud_probability'), is_cloud])\n",
    "\n",
    "# Shadow detection\n",
    "def add_shadow_bands(img):\n",
    "    not_water = img.select('SCL').neq(6)\n",
    "    dark_pixels = img.select('B8').lt(NIR_DRK_THRESH * SR_SCALE).And(not_water).rename('dark_pixels')\n",
    "\n",
    "    shadow_azimuth = ee.Number(90).subtract(ee.Number(img.get('MEAN_SOLAR_AZIMUTH_ANGLE')))\n",
    "    cld_proj = img.select('clouds').directionalDistanceTransform(shadow_azimuth, CLD_PRJ_DIST * 10) \\\n",
    "        .reproject(crs=img.select(0).projection(), scale=100) \\\n",
    "        .select('distance').mask().rename('cloud_transform')\n",
    "\n",
    "    shadows = cld_proj.multiply(dark_pixels).rename('shadows')\n",
    "    return img.addBands([dark_pixels, cld_proj, shadows])\n",
    "\n",
    "# Combine cloud and shadow masks\n",
    "def add_cld_shdw_mask(img):\n",
    "    img = add_cloud_bands(img)\n",
    "    img = add_shadow_bands(img)\n",
    "    is_cld_shdw = img.select('clouds').add(img.select('shadows')).gt(0)\n",
    "\n",
    "    mask = is_cld_shdw.focal_min(2).focal_max(BUFFER * 2 / 20) \\\n",
    "        .reproject(crs=img.select(0).projection(), scale=20) \\\n",
    "        .rename('cloudmask')\n",
    "\n",
    "    return img.addBands(mask)\n",
    "\n",
    "# Apply mask to reflectance bands\n",
    "def apply_cld_shdw_mask(img):\n",
    "    mask = img.select('cloudmask').Not()\n",
    "    return img.select('B.*').updateMask(mask).copyProperties(img, img.propertyNames())\n",
    "\n",
    "# Generate mosaic\n",
    "def get_s2_mosaic(aoi, start_date, end_date):\n",
    "    col = get_s2_sr_cld_col(aoi, start_date, end_date) \\\n",
    "        .map(add_cld_shdw_mask) \\\n",
    "        .map(apply_cld_shdw_mask)\n",
    "    return col.median().clip(aoi)"
   ]
  },
  {
   "cell_type": "code",
   "execution_count": null,
   "metadata": {
    "colab": {
     "base_uri": "https://localhost:8080/",
     "height": 17
    },
    "id": "BrHFk7fcyR4p",
    "outputId": "185c26fb-77dd-4cce-9dd5-b9b7bffd3c3e"
   },
   "outputs": [],
   "source": [
    "mosaic = get_s2_mosaic(AOI, START_DATE, END_DATE)"
   ]
  },
  {
   "cell_type": "markdown",
   "metadata": {
    "id": "46jRZ7k3yfVs"
   },
   "source": [
    "## 5. Visualize cloud-free Sentinel-2 mosaic"
   ]
  },
  {
   "cell_type": "code",
   "execution_count": null,
   "metadata": {
    "colab": {
     "base_uri": "https://localhost:8080/",
     "height": 621,
     "referenced_widgets": [
      "99e5c5a7d6e74d12a0e9123442641ea8",
      "51f48f1518854935a45dce1e99123c3e",
      "48adeda079b64cbda6d6cafa2b138995",
      "198e9dc15e6544ed9e0a201d16af2a33",
      "6f775639703b42bab97dafe72ade0160",
      "4e88dd39c7c74bf1b1e946584cd083db",
      "add3c4930c0b411ea09a7b499a254b60",
      "3ca3248607f242a3808f061b949e3577",
      "2f852079a6a8469cabc8bd7583e4678f",
      "f959d31818cb402b9c418ab17713d0e1",
      "f8ba730582594cc585cc910f98f24866",
      "4ef450fc6e154815bb13987096d1d9eb",
      "7d80401cd1ce44abb020605bd7ad7f60",
      "01a2b45acdc54231906ddeef9cfec163",
      "3f192e426e074cd091c6e7b2ca8f29cb",
      "9755592a359e4568bacb36ae61cf5a83",
      "c5ed6f1a5dfe4910b85927ca521f5a8d",
      "d3faebd4cbc04e6486924a162002085a",
      "5b00f985fdbe4648aeeaf2e745966cd2",
      "e65773b5fa444ca594a0fee71fac1f28",
      "77f149a18fd04d86a99189c7d5ca8b45",
      "388c1b6a69c64913bf2b086ab3578fa9",
      "8eda9d04ab364efdb56b9a5fbb795fb1",
      "5eb9b0a2ca924842b61b8ba508262315",
      "354ac176b69b43a1b874bae4fa771f79",
      "8d1b10bcc17e4e3e96264b0aabf291e3",
      "931b8f01c1ae4011836e1904bec7c025",
      "034b135851a946da905565bce5bca56c",
      "aaf68e84be054ffbae43d0e83bb12266",
      "702f35b791734074bc1b85c9754d8c36",
      "4ba06e9890c54d69b5ff1643c2c77566",
      "85f61046d17542c2b9045987394f91f0",
      "d9d219c4c6054c93a24978272207b81e",
      "4a14a9e188ac4507897de71917e96c41",
      "39f59d4fea8e4e34a2a53b9b781f87c0",
      "1eaa1b173b4742d0946ebf563f132d20",
      "e12575609a994dbbbde72d37e9aba619",
      "1dcc2a538a7e4c38a1f3e98738a1216f",
      "61e969058d2d4a1fa3c2afb50300de22",
      "7c149f1b101b42b69e0cde7c8eb1e476",
      "648f45b13f984f3787083c533db538c7",
      "585a02ea69524242bcfd09931a124e28",
      "d7da2bd2c6f745fa90ebf02d4ddab8a7",
      "9b0410a10e674cd08134894962b01b20",
      "761b9515cb9f4dca86e6523c80e3ff49",
      "3fd3f205dbd8437a9fd90a7e8a6a4a59",
      "416b9d429cf2459f9c167a82dcfb7485",
      "0d9dbb45ae3c4caeaab2606e62d4288c",
      "1a2344bd32914d4c936c3ae7fe47a5b3",
      "0b74887e87184a9792b7df88152138dc",
      "6e46fd08bc3341ec89e5d9f9dd32a7b9",
      "4c6320ff9b4f4ed9b936efc2b06d2cb2",
      "1f336336c38144a49fa9aef6b83c4dab",
      "f3277978c6fa4fc3ac47c23bc8f24cfc",
      "42a882eaf7614c1fbb5f30d6a088d641",
      "9b9ed3dee19046388052f6ddb804637e",
      "62fee1d2610e43df83bb89ed1bfa48a6",
      "62340ca08a8f459c8fca55a1b1ce24bc",
      "fba6c92767d344b1848f1a786c8cea8d",
      "325c4e721af949e78e5accd26b9b31ae",
      "8402ab93c0c44d74a8997cd42f2e18b9",
      "23653e821acf422d8ab12293654fa8d3",
      "7549c37e6e3243c1bd8c45920e3d8b38",
      "fc8a075955354abe886a9f7328396d32",
      "7449a3eb1cc9410ca93d5849864fcbab",
      "b202ef37f4d14b599ac2056e3e109a04",
      "b4d47509d1fe4d33a43f05f2a2caf111",
      "f43ee14c26c4414eacbc563efd6e14a0",
      "a21416215131443698d5f17bc61c9f41",
      "798f9b38b8554161835310f548cc27a9",
      "a8df61d464d040c5bcbb54b6d0aea1c4",
      "df5b6c7f638e4af5851254ad4bce0182",
      "1581e144794e4536a655ee51cd9cd93e",
      "ccaab403d5db4215b9de0ebe80a66acb",
      "0e10854d39e9465a9ed38455587372c4",
      "902ad3f66a214d3d991d07b8e4500832",
      "4f4ed83d7d594958830ffe38b56a0e15",
      "7e934ad6bbad45e1bfcaa07843c657ad",
      "cec50fc0841a416eba7dd4ff505856d1",
      "99026906a55242f594677e240a95c276",
      "51658974f44046278eca572a44e53fb9",
      "b66ffa5cd7684b2995926a1573c4aead",
      "18801ab0cc11461d9010b0c96a83c526",
      "a3ff1a4ddc0340b09ba1ace0fb7d6409",
      "22dc60db0f194b44b128f87ae7436c62",
      "f6a7d48e848144c3a7e9b26741fc55dd",
      "dadb9cf3418f46bbbbed525aee22db83",
      "0b6a403c8b8d4822a98b46c5b2a08c4d",
      "42f8b68b6ce74565b9807e71c1292e56",
      "f01fe04bc07346fdbb52f8b7360f5587",
      "d464820fb89b4e7bb751495e7b12d61d",
      "349411819d294710b241ff492af1b281",
      "b63ae4db75ac49368d436d78e2b33867",
      "8f2f5476ac6c46ee96e745de5eb13dd1",
      "3291ec6eaf944e7d85e8737afc3bfedc",
      "f0d8b5a389a64bf2b7c35da6f8e5f0bc",
      "302bbb97d2aa49a28a5b98f839c25b4b",
      "3beeb4da7c7843c1b74110ebbf78d281",
      "84b160acf4494d52a4647948abd0f03a",
      "4fcb1b02067c4102999f460247cf94ac",
      "8e3111b4c66a4db5983bef7a34e36b13",
      "04a72588a650424180ebd23c1333c73c",
      "caeeade035f64dd5ade0a6ce8a3bd9e1",
      "01b39f38264f4232a111c9273413e32a",
      "2b24dab52437400c89fca48489fd090c",
      "c0642c03ea0743b3ad979fb896ce9005",
      "378ca262a8ff41df9c58f9421b1ca658",
      "4397ecdf94ab47228a568f3d890654a7",
      "f587568d6d394ec4bd6c0db62b51cfed",
      "cd41ec49f0bf4a9b902bc6e99d4d5eee",
      "e9e14da0f28b445da25fb11c5ed1986e",
      "1138bfe9084b4d90a2b4533b298ae077",
      "113d4c1893dc41b18feac9689f6f2232",
      "4c7e4844cd4141d292626048d35b200e",
      "23756efb37f24fbb82827dec323b72a2",
      "d0513f23459549c69d9c8a3f31a4b60c",
      "8bd6525f50c2425b9f0c37027369987b",
      "cd7746d04668457b9b40343b65080283",
      "22736741d4dd4c2c93afb2d120c3b762",
      "22bea044824a4849b5ac13e660cb00ba",
      "3feea69f63f149478b6471081ee56c34",
      "0dc352bd7e2c42d8bd8d16293043e8b4",
      "92308e1494e2483d916c682d300cb2ba",
      "4f80ceca4d054442b4eb4bb8f7c0166a",
      "7971e9693bae474783ebb5e2dca34e3b",
      "0ef0c3fcca994d059d7d8a68eaef6934",
      "6ee643a567c04c37881b83441693a8be",
      "a1f5e6e7fb5647fe88bf576a8c357224",
      "81c779eef22f47d6aaafa76231e77719",
      "1922be4692d44349a00e3d0534c10a5d",
      "f084125c7d15405ca85d997ab7cd5e07",
      "e659f37e93a3456b849d0e4e0abfe1e4",
      "5be1a65866a943c0ab37ee75a1d11b68",
      "ceed711f1e874e99bd5467706e03ec2b",
      "cfb47a4e3ec246d28692eb2f2fc1e811",
      "a2d12ef8a69945ae8f83b167406e5962",
      "968bf4048e0e43f79ab0b21778cf0612",
      "c9176545d55841f5af7507df84ad3e41",
      "d5386228169e4aafb612e24a9e0c82da",
      "13eb333d1c3a46d1981bac6f8ed46fac",
      "9b46e938f28f434caaad4e5826218dbb",
      "9aaced175e144dd7bf3fb699ea935f3b",
      "3880976c35114fd9916cd8ceb07289bb",
      "11031d12ad23473eb6b3ae8d8de3f0d8",
      "69035fff090e4cd9b84435647adf1c1b",
      "91bd652433f64dc7b7267ee128069d07",
      "e169a470da094865ab01b636e704c8dc",
      "d74d1b545194483aa7186ece17d98561",
      "d48124e0b1f04844a700601991a08174",
      "c50f609c5d9143a89851fe9da53e8704",
      "c9ba2452667d4a239935d4875991e502",
      "cff2ccd5c43e41e0964f5bcad4ddc8bc",
      "a7380523e57a4674bd8eb90e08b88da1",
      "29543e26a2eb4eafa27513b538c02420",
      "6cad41f070594415a3ebec8e1764f66f",
      "468c4cfc6ffe4474856b94d40fdf3e9a",
      "2c39c0e6dd66498b8e2b8e66c03e016e",
      "724ac47aa6584f56b7aac6103f80b437",
      "c647c703487a4fb3a029379f3ba3cd29",
      "b836c2ee40fd4c6b8671bf9c8f005d09",
      "eab54c27684c478a88ffd665f2f09d68",
      "8bab9eaa363e44e683f9cf8b724b3993",
      "1f2f8c4c447b4ee5b51e7ded61feeda3",
      "88159de0315a423e95a6752343bc3fa1",
      "c9c36acd1268452bb9b3ff16e7a199fe",
      "36764e97109747dab2a38d0deb5010fe",
      "b5a226029f33487ebfc9dc5330de6dd2",
      "57c5a1a7911f4cf483785efb74dfedb9",
      "1fc2608c84f44025b222309e6465f0b5",
      "b2ab02cc9fa5402dbf84591f0af72fb2",
      "c35f266afa9f4b369f4b5af48bbfed61",
      "af6184ec20c24ce4ade7813d1edf703b",
      "5d95f22a7c27423b94c5a1dcc5f05a11",
      "611f72999156463daaacb82a3f8cfe20",
      "18b87ce5dd2e490bba2a340d87974b01",
      "926d03b58c3d4113a5bcceb49c46b620",
      "8facce8ffaf3410cab5581026c9a4802",
      "06449b4a73664c4895c3b21b55044217",
      "26b4c1def75f4c1785170d64cdcc6c81",
      "8a3931c5ca8346a2a0c2b10ac197c7ae",
      "0a266367c2ef43ec81555041f4abc45e",
      "fdfc934315f14c739cc071c5e0ad1ab2",
      "06694211fdfc438d90bf6918a7697c78",
      "6597c06bee7940cbad8e3d1c5a01f12f",
      "7274fe1d1dc243558390937f740976ff",
      "af2eaf595e1a47debfc9d10b403e7a72",
      "c7a851ede1fb45c4b07767dd87e19bf0",
      "4b2f6087d8614c1a91452c6bc4071d20",
      "4d14db42cd324e2189d2d0720dca42f1",
      "cc633d6f1c50486fb993694cf13c49c3",
      "25cf5af613fe4e649be233ddeb7c035f",
      "bf16656558bc48ae8b92ae2242236803",
      "a7ec844355a64969bc1ba5f9a4fb8c92",
      "619c9063e6104a3680adb30854b0ec9b",
      "e47061a0e14d4ed1bd30b01480fc277c",
      "66b32de45c26408d9240775750435a4f",
      "a0424ba069314613abc9520c8b2bd798",
      "441da69eea8a48229d461b1d35285b23",
      "642ac3a882fd43d780cab25c5193bd4e",
      "f04e0ee249ae42a19fc7158f0fcbed67",
      "5da9b5ebba1d401e9e9537ec36bd798e",
      "860e9300ea884a70b2164a7303df7a7c",
      "b942468208ea4eb6b371f017c2ee35c7",
      "43e2bef0aee54321b03c406571d2ba98",
      "5cac40578d3846ab83ac31931493419b",
      "014bb89a819a4da49dc31f3e5c1a3512",
      "b47910c4f3d147d8acf884fa4a1b5a12",
      "d530684b94284c8b863af33fc48be8a5",
      "be1d898414cd4603a5c9114ab34ddb38",
      "5201c9ea584d474da40073f27cf829b2",
      "4e6a823c4b3343ee820fdfc417c235ca",
      "9ab64f55d00e4ecc84a9718131a5604e",
      "2852b770f2924e74bb4088dd957491fd",
      "825daad61d004ae6ae3bb043e7c32db0",
      "9335fb4dc6514c9491f541eb44f4ea20",
      "694009422e104d8093c49a4baac64e81",
      "8bcca17a6e4d46648da1d22cec830173",
      "63e7249c28eb4e85897190399c9d6736",
      "be3c3b701bcf456fae45daba651eb947",
      "4a1a039ec633415294fae1ffbc59f7ef",
      "88acd8abc2ca473a9e755df8c8a63afb",
      "14fe30bce04d4d52aa15fa57ddc2f3d8",
      "0a3a7243500e4a27a81d2100616e2b26",
      "4409f2217d5f495982b41086ef0320f8",
      "75326a373d2b4a76bf06f89fadfd075e",
      "c14813e7191947049db8df3f381e1a76",
      "c3ca4b3126974bcfa66abd9ef4ba2405",
      "a1dcd9ca92184794be471ad41a47e928",
      "633ac0168ebc425c99200350315ac377",
      "3f8aa528dbe347459ee30a7a0cd356e6",
      "02c5611de079496b9c35ffd464abfe5b",
      "df301f2776834d50987a2787d9e5dc1f",
      "b86276958a8941d0938d314b08a07cf5",
      "d6b44550a23d4b0bbdcc9a0a5c45b043",
      "e7a4da9db6324622abdcbe48e3605dff",
      "dc9d5b71bced48a5a601961ff7e71dd2",
      "75cbcb0ca9ad4638aee064d5df94faa2",
      "d8b428194f3e4f9e9b6af69a33b0ef50",
      "0514411514da466cb1442d6f3690784f",
      "4f985728d53742658bbadb54533e75c9",
      "9404513fdbd24008b0c46d03f8421ca4",
      "3c7c9315374f4896a8ccd0be51c3060e",
      "540b0f332d8a4f4894f9e9358b2283c9",
      "6bdff28709974fbe9aaa23190f21d394",
      "215ddf99e8484e1e940fcabd69d76338",
      "9ddb0e9448ea44b8b8abc56981e28c68",
      "62a7ce393e8142808e01b83173a3bb62",
      "0c7f871d0d4c4769a3862416265107cb",
      "f5be22ee78bf41b09cf64d655eab906f",
      "9bdd3e9f153d476881ff2c5b1d9350a8",
      "0aecb57377ff448d94ed38b40efeb469",
      "0f6a33eac5c84861b8c97bfd1f6444ee",
      "131293bfcce84a8dbbfe5bae4c90d904",
      "4ab1ec2859c5475592fa03e08e79ce33",
      "d395d1c3072b429998275b4705ba5399",
      "eab8f62219ad424cad96321ab6cb7bc8",
      "616bc414ccff43e3a39aab2fbb63cc98",
      "3ac87d5c928b4c3cbc70dbadd99ba021",
      "67f9abc406524838baee34353549dc17",
      "9b85a5b255c3422381b14517a5ef8b92",
      "d958bf9af3b345acbf531c6cc3c2c51a",
      "cf0c57b671264a27b94b6bd1d7a03cde",
      "ed10221ac49845dfaffe08056c23b521",
      "8525ec7a38f8485abbef88ae73deaa3a",
      "f403cddc3c224826be9763c35521c62d",
      "81600e7c95004ec4ab5b54f6e14d01c3",
      "ab8fc8ffd49645738d7423022ae89723"
     ]
    },
    "id": "i0_QKg95yi6H",
    "outputId": "72ceaaae-c468-44e9-ad81-c9a4b2f9dbec"
   },
   "outputs": [],
   "source": [
    "# Initialize interactive map\n",
    "Map = geemap.Map()\n",
    "\n",
    "# Add basemap\n",
    "Map.add_basemap('HYBRID')\n",
    "\n",
    "# Define visualization parameters for RGB\n",
    "vis_params = {\n",
    "    'bands': ['B4', 'B3', 'B2'],\n",
    "    'min': 0.0,\n",
    "    'max': 3000\n",
    "}\n",
    "\n",
    "# Add the AOI\n",
    "Map.addLayer(AOI, {}, 'AOI')\n",
    "\n",
    "# Add sentinel-2 mosaic to map\n",
    "Map.addLayer(mosaic, vis_params, \"S2 Cloud-Free Mosaic\", True)\n",
    "\n",
    "# Zoom to AOI\n",
    "Map.centerObject(AOI, 10)\n",
    "\n",
    "\n",
    "Map"
   ]
  },
  {
   "cell_type": "markdown",
   "metadata": {
    "id": "cF1aDhXs82zP"
   },
   "source": [
    "## 6. Processing Sentinel-1 Imagery, Applying Lee Speckle Filter, and Mosaicking"
   ]
  },
  {
   "cell_type": "code",
   "execution_count": null,
   "metadata": {
    "colab": {
     "base_uri": "https://localhost:8080/",
     "height": 17
    },
    "id": "UCjIVnrz1q6_",
    "outputId": "c02de3e6-834c-418f-8245-e5237885de3c"
   },
   "outputs": [],
   "source": [
    "# Speckle Filtering functions\n",
    "# Credit: SERVIR-Mekong, adapted from\n",
    "# https://mygeoblog.com/2021/01/21/sentinel-1-speckle-filter-refined-lee/\n",
    "# Ported from JavaScript API to Python API with ChatGPT-4o\n",
    "\n",
    "def db_to_power(img):\n",
    "    \"\"\"\n",
    "    Converts a Sentinel-1 image from decibel (dB) scale to power scale.\n",
    "\n",
    "    Parameters:\n",
    "        img (ee.Image): Image in dB units.\n",
    "\n",
    "    Returns:\n",
    "        ee.Image: Image converted to power scale.\n",
    "    \"\"\"\n",
    "    return ee.Image(10).pow(img.divide(10))\n",
    "\n",
    "def power_to_db(img):\n",
    "    \"\"\"\n",
    "    Converts a Sentinel-1 image from power scale to decibel (dB) scale.\n",
    "\n",
    "    Parameters:\n",
    "        img (ee.Image): Image in power units.\n",
    "\n",
    "    Returns:\n",
    "        ee.Image: Image converted to dB scale.\n",
    "    \"\"\"\n",
    "    return ee.Image(10).multiply(img.log10())\n",
    "\n",
    "def refined_lee_full(image):\n",
    "    \"\"\"\n",
    "    Applies the full Refined Lee Speckle Filter to a multi-band Sentinel-1 image.\n",
    "\n",
    "    Parameters:\n",
    "        image (ee.Image): Multi-band SAR image in dB scale.\n",
    "\n",
    "    Returns:\n",
    "        ee.Image: Speckle-filtered image with original band names in dB scale.\n",
    "    \"\"\"\n",
    "    image = db_to_power(image)\n",
    "    band_names = image.bandNames()\n",
    "\n",
    "    def filter_band(band_name):\n",
    "        band_name = ee.String(band_name)\n",
    "        img = image.select(band_name)\n",
    "\n",
    "        # 3x3 mean and variance\n",
    "        kernel3 = ee.Kernel.square(1)\n",
    "        mean3 = img.reduceNeighborhood(ee.Reducer.mean(), kernel3)\n",
    "        var3 = img.reduceNeighborhood(ee.Reducer.variance(), kernel3)\n",
    "\n",
    "        # 7x7 sample kernel\n",
    "        sample_kernel = ee.Kernel.fixed(7, 7, [\n",
    "            [0,0,0,0,0,0,0],\n",
    "            [0,1,0,1,0,1,0],\n",
    "            [0,0,0,0,0,0,0],\n",
    "            [0,1,0,1,0,1,0],\n",
    "            [0,0,0,0,0,0,0],\n",
    "            [0,1,0,1,0,1,0],\n",
    "            [0,0,0,0,0,0,0]\n",
    "        ], 3, 3, False)\n",
    "\n",
    "        sample_mean = mean3.neighborhoodToBands(sample_kernel)\n",
    "        sample_var = var3.neighborhoodToBands(sample_kernel)\n",
    "\n",
    "        # Gradient directions\n",
    "        gradients = sample_mean.select(1).subtract(sample_mean.select(7)).abs() \\\n",
    "            .addBands(sample_mean.select(6).subtract(sample_mean.select(2)).abs()) \\\n",
    "            .addBands(sample_mean.select(3).subtract(sample_mean.select(5)).abs()) \\\n",
    "            .addBands(sample_mean.select(0).subtract(sample_mean.select(8)).abs())\n",
    "        max_grad = gradients.reduce(ee.Reducer.max())\n",
    "        gradmask = gradients.eq(max_grad)\n",
    "\n",
    "        # Direction mask (collapsed to single band)\n",
    "        directions = sample_mean.select(1).subtract(sample_mean.select(4)) \\\n",
    "            .gt(sample_mean.select(4).subtract(sample_mean.select(7))).multiply(1) \\\n",
    "            .add(sample_mean.select(6).subtract(sample_mean.select(4)) \\\n",
    "            .gt(sample_mean.select(4).subtract(sample_mean.select(2))).multiply(2)) \\\n",
    "            .add(sample_mean.select(3).subtract(sample_mean.select(4)) \\\n",
    "            .gt(sample_mean.select(4).subtract(sample_mean.select(5))).multiply(3)) \\\n",
    "            .add(sample_mean.select(0).subtract(sample_mean.select(4)) \\\n",
    "            .gt(sample_mean.select(4).subtract(sample_mean.select(8))).multiply(4))\n",
    "        # Opposite directions (5-8)\n",
    "        directions = directions \\\n",
    "            .add(directions.eq(0).multiply(5)) \\\n",
    "            .add(directions.eq(1).Not().multiply(6)) \\\n",
    "            .add(directions.eq(2).Not().multiply(7)) \\\n",
    "            .add(directions.eq(3).Not().multiply(8))\n",
    "\n",
    "        # Reduce mask to single band before applying\n",
    "        direction_mask = gradmask.reduce(ee.Reducer.anyNonZero())\n",
    "        directions = directions.updateMask(direction_mask)\n",
    "\n",
    "        # Noise estimate\n",
    "        sample_stats = sample_var.divide(sample_mean.multiply(sample_mean))\n",
    "        sigmaV = (\n",
    "            sample_stats.toArray()\n",
    "            .arraySort()\n",
    "            .arraySlice(0, 0, 5)\n",
    "            .arrayReduce(ee.Reducer.mean(), [0])\n",
    "            .arrayProject([0])\n",
    "            .arrayFlatten([['sigmaV']])\n",
    "            )\n",
    "\n",
    "        # Directional kernels\n",
    "        rect_weights = ee.List.repeat(ee.List.repeat(0, 7), 3).cat(ee.List.repeat(ee.List.repeat(1, 7), 4))\n",
    "        diag_weights = ee.List([\n",
    "            [1,0,0,0,0,0,0],\n",
    "            [1,1,0,0,0,0,0],\n",
    "            [1,1,1,0,0,0,0],\n",
    "            [1,1,1,1,0,0,0],\n",
    "            [1,1,1,1,1,0,0],\n",
    "            [1,1,1,1,1,1,0],\n",
    "            [1,1,1,1,1,1,1]\n",
    "        ])\n",
    "        rect_kernel = ee.Kernel.fixed(7, 7, rect_weights, 3, 3, False)\n",
    "        diag_kernel = ee.Kernel.fixed(7, 7, diag_weights, 3, 3, False)\n",
    "\n",
    "        dir_mean = img.reduceNeighborhood(ee.Reducer.mean(), rect_kernel).updateMask(directions.eq(1))\n",
    "        dir_var = img.reduceNeighborhood(ee.Reducer.variance(), rect_kernel).updateMask(directions.eq(1))\n",
    "        dir_mean = dir_mean.addBands(img.reduceNeighborhood(ee.Reducer.mean(), diag_kernel).updateMask(directions.eq(2)))\n",
    "        dir_var = dir_var.addBands(img.reduceNeighborhood(ee.Reducer.variance(), diag_kernel).updateMask(directions.eq(2)))\n",
    "\n",
    "        for i in range(1, 4):\n",
    "            dir_mean = dir_mean.addBands(img.reduceNeighborhood(ee.Reducer.mean(), rect_kernel.rotate(i)).updateMask(directions.eq(2*i+1)))\n",
    "            dir_var = dir_var.addBands(img.reduceNeighborhood(ee.Reducer.variance(), rect_kernel.rotate(i)).updateMask(directions.eq(2*i+1)))\n",
    "            dir_mean = dir_mean.addBands(img.reduceNeighborhood(ee.Reducer.mean(), diag_kernel.rotate(i)).updateMask(directions.eq(2*i+2)))\n",
    "            dir_var = dir_var.addBands(img.reduceNeighborhood(ee.Reducer.variance(), diag_kernel.rotate(i)).updateMask(directions.eq(2*i+2)))\n",
    "\n",
    "        dir_mean = dir_mean.reduce(ee.Reducer.sum())\n",
    "        dir_var = dir_var.reduce(ee.Reducer.sum())\n",
    "\n",
    "        varX = dir_var.subtract(dir_mean.multiply(dir_mean).multiply(sigmaV)).divide(sigmaV.add(1.0))\n",
    "        b = varX.divide(dir_var)\n",
    "        result = dir_mean.add(b.multiply(img.subtract(dir_mean)))\n",
    "\n",
    "        return power_to_db(result).rename(band_name)\n",
    "\n",
    "    # Map over bands server-side using iterate\n",
    "    def wrap_band(band_name, prev_result):\n",
    "        prev_img = ee.Image(prev_result)\n",
    "        return prev_img.addBands(filter_band(band_name))\n",
    "\n",
    "    empty = ee.Image().select()\n",
    "    filtered = band_names.iterate(wrap_band, empty)\n",
    "\n",
    "    # Return and preserve metadata\n",
    "    return ee.Image(filtered).copyProperties(image, image.propertyNames())\n"
   ]
  },
  {
   "cell_type": "code",
   "execution_count": null,
   "metadata": {
    "colab": {
     "base_uri": "https://localhost:8080/",
     "height": 17
    },
    "id": "arnPTkxu_kJn",
    "outputId": "a7b40a8d-c89d-4560-9a87-ee42d0ab037f"
   },
   "outputs": [],
   "source": [
    "def get_s1_mosaic(aoi, start_date, end_date,\n",
    "                                   polarizations=['VV', 'VH'],\n",
    "                                   orbit='ASCENDING',\n",
    "                                   reducer='median'):\n",
    "    \"\"\"\n",
    "    Creates a Sentinel-1 mosaic for the given time range and AOI,\n",
    "    applying the full Refined Lee speckle filter to each image.\n",
    "\n",
    "    Parameters:\n",
    "        aoi (ee.Geometry): Area of interest.\n",
    "        start_date (str): Start date (YYYY-MM-DD).\n",
    "        end_date (str): End date (YYYY-MM-DD).\n",
    "        polarizations (list): List of polarizations to include (e.g. ['VV', 'VH']).\n",
    "        orbit (str): Orbit pass ('ASCENDING', 'DESCENDING', or 'BOTH').\n",
    "        reducer (str): Reducer to apply over time ('median', 'mean', 'max', 'mosaic').\n",
    "\n",
    "    Returns:\n",
    "        ee.Image: A speckle-filtered S1 composite clipped to AOI.\n",
    "    \"\"\"\n",
    "    s1 = (\n",
    "        ee.ImageCollection(\"COPERNICUS/S1_GRD\")\n",
    "        .filterBounds(aoi)\n",
    "        .filterDate(start_date, end_date)\n",
    "        .filter(ee.Filter.eq('instrumentMode', 'IW'))\n",
    "        .filter(ee.Filter.listContains('transmitterReceiverPolarisation', 'VV'))\n",
    "        .filter(ee.Filter.listContains('transmitterReceiverPolarisation', 'VH'))\n",
    "        .filter(ee.Filter.eq('resolution_meters', 10))\n",
    "        .select(polarizations)\n",
    "    )\n",
    "\n",
    "    if orbit in ['ASCENDING', 'DESCENDING']:\n",
    "        s1 = s1.filter(ee.Filter.eq('orbitProperties_pass', orbit))\n",
    "\n",
    "    # Apply full refined Lee filter\n",
    "    s1_filtered = s1.map(refined_lee_full)\n",
    "\n",
    "    # Reduce to a single mosaic\n",
    "    if reducer == 'median':\n",
    "        return s1_filtered.median().clip(aoi)\n",
    "    elif reducer == 'mean':\n",
    "        return s1_filtered.mean().clip(aoi)\n",
    "    elif reducer == 'max':\n",
    "        return s1_filtered.max().clip(aoi)\n",
    "    elif reducer == 'mosaic':\n",
    "        return s1_filtered.mosaic().clip(aoi)\n",
    "    else:\n",
    "        raise ValueError(\"Reducer must be one of: median, mean, max, mosaic\")"
   ]
  },
  {
   "cell_type": "code",
   "execution_count": null,
   "metadata": {
    "colab": {
     "base_uri": "https://localhost:8080/",
     "height": 17
    },
    "id": "3WFmq5WZ6iwS",
    "outputId": "9787c193-2f40-4fba-8e9c-d4b87e02106c"
   },
   "outputs": [],
   "source": [
    "# Define temporal filters\n",
    "S1_START_DATE = '2021-06-01'\n",
    "S1_END_DATE = '2021-08-01'"
   ]
  },
  {
   "cell_type": "code",
   "execution_count": null,
   "metadata": {
    "colab": {
     "base_uri": "https://localhost:8080/",
     "height": 17
    },
    "id": "RWj80QOHDJQl",
    "outputId": "61e51856-9a63-4569-8897-d37ce8165824"
   },
   "outputs": [],
   "source": [
    "# Apply speckle filter function and mosaic\n",
    "s1_mosaic = get_s1_mosaic(AOI, S1_START_DATE, S1_END_DATE)"
   ]
  },
  {
   "cell_type": "markdown",
   "metadata": {
    "id": "OToD1a1kDOJt"
   },
   "source": [
    "## 7. Visualize Processed Sentinel-1 Mosaic"
   ]
  },
  {
   "cell_type": "code",
   "execution_count": null,
   "metadata": {
    "colab": {
     "base_uri": "https://localhost:8080/",
     "height": 621,
     "referenced_widgets": [
      "99e5c5a7d6e74d12a0e9123442641ea8",
      "51f48f1518854935a45dce1e99123c3e",
      "48adeda079b64cbda6d6cafa2b138995",
      "198e9dc15e6544ed9e0a201d16af2a33",
      "6f775639703b42bab97dafe72ade0160",
      "4e88dd39c7c74bf1b1e946584cd083db",
      "add3c4930c0b411ea09a7b499a254b60",
      "3ca3248607f242a3808f061b949e3577",
      "2f852079a6a8469cabc8bd7583e4678f",
      "f959d31818cb402b9c418ab17713d0e1",
      "f8ba730582594cc585cc910f98f24866",
      "4ef450fc6e154815bb13987096d1d9eb",
      "7d80401cd1ce44abb020605bd7ad7f60",
      "01a2b45acdc54231906ddeef9cfec163",
      "3f192e426e074cd091c6e7b2ca8f29cb",
      "c0642c03ea0743b3ad979fb896ce9005",
      "8a3931c5ca8346a2a0c2b10ac197c7ae",
      "9755592a359e4568bacb36ae61cf5a83",
      "c5ed6f1a5dfe4910b85927ca521f5a8d",
      "d3faebd4cbc04e6486924a162002085a",
      "5b00f985fdbe4648aeeaf2e745966cd2",
      "e65773b5fa444ca594a0fee71fac1f28",
      "77f149a18fd04d86a99189c7d5ca8b45",
      "388c1b6a69c64913bf2b086ab3578fa9",
      "8eda9d04ab364efdb56b9a5fbb795fb1",
      "5eb9b0a2ca924842b61b8ba508262315",
      "354ac176b69b43a1b874bae4fa771f79",
      "8d1b10bcc17e4e3e96264b0aabf291e3",
      "931b8f01c1ae4011836e1904bec7c025",
      "034b135851a946da905565bce5bca56c",
      "aaf68e84be054ffbae43d0e83bb12266",
      "702f35b791734074bc1b85c9754d8c36",
      "4ba06e9890c54d69b5ff1643c2c77566",
      "85f61046d17542c2b9045987394f91f0",
      "d9d219c4c6054c93a24978272207b81e",
      "4a14a9e188ac4507897de71917e96c41",
      "39f59d4fea8e4e34a2a53b9b781f87c0",
      "1eaa1b173b4742d0946ebf563f132d20",
      "e12575609a994dbbbde72d37e9aba619",
      "1dcc2a538a7e4c38a1f3e98738a1216f",
      "61e969058d2d4a1fa3c2afb50300de22",
      "7c149f1b101b42b69e0cde7c8eb1e476",
      "648f45b13f984f3787083c533db538c7",
      "0a266367c2ef43ec81555041f4abc45e",
      "fdfc934315f14c739cc071c5e0ad1ab2",
      "06694211fdfc438d90bf6918a7697c78",
      "6597c06bee7940cbad8e3d1c5a01f12f",
      "7274fe1d1dc243558390937f740976ff",
      "af2eaf595e1a47debfc9d10b403e7a72",
      "c7a851ede1fb45c4b07767dd87e19bf0",
      "416b9d429cf2459f9c167a82dcfb7485",
      "0d9dbb45ae3c4caeaab2606e62d4288c",
      "1a2344bd32914d4c936c3ae7fe47a5b3",
      "0b74887e87184a9792b7df88152138dc",
      "6e46fd08bc3341ec89e5d9f9dd32a7b9",
      "4b2f6087d8614c1a91452c6bc4071d20",
      "4d14db42cd324e2189d2d0720dca42f1",
      "cc633d6f1c50486fb993694cf13c49c3",
      "25cf5af613fe4e649be233ddeb7c035f",
      "bf16656558bc48ae8b92ae2242236803",
      "a7ec844355a64969bc1ba5f9a4fb8c92",
      "619c9063e6104a3680adb30854b0ec9b",
      "e47061a0e14d4ed1bd30b01480fc277c",
      "66b32de45c26408d9240775750435a4f",
      "a0424ba069314613abc9520c8b2bd798",
      "441da69eea8a48229d461b1d35285b23",
      "642ac3a882fd43d780cab25c5193bd4e",
      "f04e0ee249ae42a19fc7158f0fcbed67",
      "5da9b5ebba1d401e9e9537ec36bd798e",
      "860e9300ea884a70b2164a7303df7a7c",
      "b942468208ea4eb6b371f017c2ee35c7",
      "43e2bef0aee54321b03c406571d2ba98",
      "5cac40578d3846ab83ac31931493419b",
      "014bb89a819a4da49dc31f3e5c1a3512",
      "b47910c4f3d147d8acf884fa4a1b5a12",
      "d530684b94284c8b863af33fc48be8a5",
      "be1d898414cd4603a5c9114ab34ddb38",
      "5201c9ea584d474da40073f27cf829b2",
      "4e6a823c4b3343ee820fdfc417c235ca",
      "9ab64f55d00e4ecc84a9718131a5604e",
      "2852b770f2924e74bb4088dd957491fd",
      "825daad61d004ae6ae3bb043e7c32db0",
      "9335fb4dc6514c9491f541eb44f4ea20",
      "694009422e104d8093c49a4baac64e81",
      "8bcca17a6e4d46648da1d22cec830173",
      "63e7249c28eb4e85897190399c9d6736",
      "be3c3b701bcf456fae45daba651eb947",
      "4a1a039ec633415294fae1ffbc59f7ef",
      "88acd8abc2ca473a9e755df8c8a63afb",
      "14fe30bce04d4d52aa15fa57ddc2f3d8",
      "0a3a7243500e4a27a81d2100616e2b26",
      "4409f2217d5f495982b41086ef0320f8",
      "75326a373d2b4a76bf06f89fadfd075e",
      "c14813e7191947049db8df3f381e1a76",
      "c3ca4b3126974bcfa66abd9ef4ba2405",
      "a1dcd9ca92184794be471ad41a47e928",
      "633ac0168ebc425c99200350315ac377",
      "3f8aa528dbe347459ee30a7a0cd356e6",
      "02c5611de079496b9c35ffd464abfe5b",
      "df301f2776834d50987a2787d9e5dc1f",
      "b86276958a8941d0938d314b08a07cf5",
      "d6b44550a23d4b0bbdcc9a0a5c45b043",
      "e7a4da9db6324622abdcbe48e3605dff",
      "dc9d5b71bced48a5a601961ff7e71dd2",
      "75cbcb0ca9ad4638aee064d5df94faa2",
      "d8b428194f3e4f9e9b6af69a33b0ef50",
      "0514411514da466cb1442d6f3690784f",
      "4f985728d53742658bbadb54533e75c9",
      "9404513fdbd24008b0c46d03f8421ca4",
      "3c7c9315374f4896a8ccd0be51c3060e",
      "540b0f332d8a4f4894f9e9358b2283c9",
      "6bdff28709974fbe9aaa23190f21d394",
      "215ddf99e8484e1e940fcabd69d76338",
      "9ddb0e9448ea44b8b8abc56981e28c68",
      "62a7ce393e8142808e01b83173a3bb62",
      "0c7f871d0d4c4769a3862416265107cb",
      "f5be22ee78bf41b09cf64d655eab906f",
      "9bdd3e9f153d476881ff2c5b1d9350a8",
      "0aecb57377ff448d94ed38b40efeb469",
      "0f6a33eac5c84861b8c97bfd1f6444ee",
      "131293bfcce84a8dbbfe5bae4c90d904",
      "4ab1ec2859c5475592fa03e08e79ce33",
      "d395d1c3072b429998275b4705ba5399",
      "eab8f62219ad424cad96321ab6cb7bc8",
      "616bc414ccff43e3a39aab2fbb63cc98",
      "3ac87d5c928b4c3cbc70dbadd99ba021",
      "67f9abc406524838baee34353549dc17",
      "9b85a5b255c3422381b14517a5ef8b92",
      "d958bf9af3b345acbf531c6cc3c2c51a",
      "cf0c57b671264a27b94b6bd1d7a03cde",
      "ed10221ac49845dfaffe08056c23b521",
      "8525ec7a38f8485abbef88ae73deaa3a",
      "f403cddc3c224826be9763c35521c62d",
      "81600e7c95004ec4ab5b54f6e14d01c3",
      "ab8fc8ffd49645738d7423022ae89723"
     ]
    },
    "id": "yKLWJRaX6rDf",
    "outputId": "8d684e09-214d-4948-8d21-3456afa91450"
   },
   "outputs": [],
   "source": [
    "# Add S1 VV and VH layers to existing map instance\n",
    "Map.addLayer(s1_mosaic.select('VV'), {'min': -20, 'max': 0}, 'S1 VV, Lee Filtered')\n",
    "Map.addLayer(s1_mosaic.select('VH'), {'min': -25, 'max': -5}, 'S1 VH, Lee Filtered')\n",
    "Map"
   ]
  },
  {
   "cell_type": "markdown",
   "metadata": {
    "id": "A-Y-eV5YN5h5"
   },
   "source": [
    "## 7. Export Sentinel Images to TFRecords for CNN"
   ]
  },
  {
   "cell_type": "code",
   "execution_count": null,
   "metadata": {
    "colab": {
     "base_uri": "https://localhost:8080/",
     "height": 68
    },
    "id": "4IaVARTPGtBa",
    "outputId": "6516222a-7fbe-4979-b5d7-3c8fba041aec"
   },
   "outputs": [],
   "source": [
    "# Create combined Sentinel-1 and Sentinel-2 image\n",
    "sentinel_combined = mosaic.addBands(s1_mosaic)\n",
    "sentinel_combined # inspect the combined sentinel image"
   ]
  },
  {
   "cell_type": "code",
   "execution_count": null,
   "metadata": {
    "colab": {
     "base_uri": "https://localhost:8080/",
     "height": 17
    },
    "id": "_i2nCqY5Onow",
    "outputId": "2a292a0f-c68d-4348-d652-fdf5d5e4364c"
   },
   "outputs": [],
   "source": [
    "# Load GEDI point geometries from earth engine\n",
    "gedi_fc = ee.FeatureCollection(\"projects/ee-zmondo/assets/encoded_latents_09_points\")"
   ]
  },
  {
   "cell_type": "code",
   "execution_count": null,
   "metadata": {
    "colab": {
     "base_uri": "https://localhost:8080/",
     "height": 191
    },
    "id": "g-NUJyfbWFYf",
    "outputId": "6adaedf6-ced7-4c77-feea-8ccab963db49"
   },
   "outputs": [],
   "source": [
    "# Inspect the feature collection\n",
    "gedi_fc.limit(1).getInfo()"
   ]
  },
  {
   "cell_type": "markdown",
   "metadata": {
    "id": "VPbymde9oCNs"
   },
   "source": [
    "## 8. Export combined Sentinel image to Google Cloud Storage Bucket"
   ]
  },
  {
   "cell_type": "code",
   "execution_count": null,
   "metadata": {
    "colab": {
     "base_uri": "https://localhost:8080/",
     "height": 34
    },
    "id": "TApD_2DciVGU",
    "outputId": "12e79a78-2ad5-441e-f09b-a9e4aa9d880c"
   },
   "outputs": [],
   "source": [
    "import time\n",
    "\n",
    "task = ee.batch.Export.image.toCloudStorage(\n",
    "    image=sentinel_combined,\n",
    "    description='gedi_pixelwise_5x5',\n",
    "    bucket='ee-gedi-data',\n",
    "    fileNamePrefix='tfrecords/gedi_5x5_patches',\n",
    "    region=gedi_fc.geometry().bounds(),  # Large enough area\n",
    "    scale=25,\n",
    "    fileFormat='TFRecord',\n",
    "    crs = 'EPSG:4326',\n",
    "    formatOptions={\n",
    "        'patchDimensions': [5, 5],\n",
    "        'kernelSize': [5, 5],\n",
    "        'compressed': True,\n",
    "    }\n",
    ")\n",
    "\n",
    "task.start()"
   ]
  }
 ],
 "metadata": {
  "colab": {
   "provenance": []
  },
  "kernelspec": {
   "display_name": "Python 3",
   "name": "python3"
  },
  "language_info": {
   "name": "python"
  }
 },
 "nbformat": 4,
 "nbformat_minor": 0
}
