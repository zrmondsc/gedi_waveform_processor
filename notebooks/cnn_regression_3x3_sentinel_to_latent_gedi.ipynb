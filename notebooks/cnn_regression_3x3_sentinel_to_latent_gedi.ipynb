{
  "nbformat": 4,
  "nbformat_minor": 0,
  "metadata": {
    "colab": {
      "provenance": [],
      "authorship_tag": "ABX9TyPi0Ad+TH9qXge3OEx9KN7/",
      "include_colab_link": true
    },
    "kernelspec": {
      "name": "python3",
      "display_name": "Python 3"
    },
    "language_info": {
      "name": "python"
    }
  },
  "cells": [
    {
      "cell_type": "markdown",
      "metadata": {
        "id": "view-in-github",
        "colab_type": "text"
      },
      "source": [
        "<a href=\"https://colab.research.google.com/github/zrmondsc/gedi_waveform_processor/blob/main/notebooks/cnn_regression_3x3_sentinel_to_latent_gedi.ipynb\" target=\"_parent\"><img src=\"https://colab.research.google.com/assets/colab-badge.svg\" alt=\"Open In Colab\"/></a>"
      ]
    },
    {
      "cell_type": "markdown",
      "source": [],
      "metadata": {
        "id": "zNbRYlREDpi9"
      }
    },
    {
      "cell_type": "markdown",
      "source": [
        "## 1. Authentication"
      ],
      "metadata": {
        "id": "89aFBHZtDoym"
      }
    },
    {
      "cell_type": "code",
      "execution_count": 1,
      "metadata": {
        "id": "meqrggj2CMMo"
      },
      "outputs": [],
      "source": [
        "import tensorflow as tf\n",
        "import numpy as np\n",
        "import matplotlib.pyplot as plt\n",
        "import pandas as pd"
      ]
    },
    {
      "cell_type": "code",
      "source": [
        "from google.colab import auth\n",
        "auth.authenticate_user()"
      ],
      "metadata": {
        "id": "Z4MrQETSCla1"
      },
      "execution_count": 2,
      "outputs": []
    },
    {
      "cell_type": "markdown",
      "source": [
        "## 2. Load and parse tfrecord.gz dataset"
      ],
      "metadata": {
        "id": "2LA4CJZsFQhX"
      }
    },
    {
      "cell_type": "code",
      "source": [
        "# Load dataset from Google Cloud Storage\n",
        "tfrecord_path = 'gs://ee-gedi-data/tfrecords/gedi_latent_patches_3x3.tfrecord.gz'\n",
        "raw_dataset = tf.data.TFRecordDataset(tfrecord_path, compression_type='GZIP')"
      ],
      "metadata": {
        "id": "VoOzo5mYDWdJ"
      },
      "execution_count": 3,
      "outputs": []
    },
    {
      "cell_type": "code",
      "source": [
        "# Sentinel bands and patch size\n",
        "BANDS = ['VV', 'VH', 'B2', 'B3', 'B4', 'B5', 'B6',\n",
        "         'B7', 'B8', 'B8A', 'B11', 'B12']\n",
        "LATENT_KEYS = [f\"latent_{i}\" for i in range(8)]\n",
        "PATCH_SIZE = 3\n",
        "\n",
        "# Feature schema\n",
        "feature_description = {\n",
        "    f\"{band}_patch\": tf.io.FixedLenFeature([PATCH_SIZE * PATCH_SIZE], tf.float32)\n",
        "    for band in BANDS\n",
        "}\n",
        "feature_description.update({\n",
        "    key: tf.io.FixedLenFeature([], tf.float32) for key in LATENT_KEYS\n",
        "})\n",
        "\n",
        "# Parser function\n",
        "def parse_example(example_proto):\n",
        "    example = tf.io.parse_single_example(example_proto, feature_description)\n",
        "\n",
        "    # Reconstruct patch: [3, 3, 12]\n",
        "    patch = tf.stack([\n",
        "        tf.reshape(example[f\"{band}_patch\"], [PATCH_SIZE, PATCH_SIZE])\n",
        "        for band in BANDS\n",
        "    ], axis=-1)\n",
        "\n",
        "    # Combine latents into [8] vector\n",
        "    latents = tf.stack([example[key] for key in LATENT_KEYS])\n",
        "\n",
        "    return patch, latents"
      ],
      "metadata": {
        "id": "tomC2bm8C-t1"
      },
      "execution_count": 8,
      "outputs": []
    },
    {
      "cell_type": "code",
      "source": [
        "# Parse dataset\n",
        "parsed_dataset = raw_dataset.map(parse_example)\n",
        "parsed_dataset"
      ],
      "metadata": {
        "colab": {
          "base_uri": "https://localhost:8080/"
        },
        "id": "t5JJwwJCDMck",
        "outputId": "2116f444-0747-4225-c578-2d243ef92a0a"
      },
      "execution_count": 9,
      "outputs": [
        {
          "output_type": "execute_result",
          "data": {
            "text/plain": [
              "<_MapDataset element_spec=(TensorSpec(shape=(3, 3, 12), dtype=tf.float32, name=None), TensorSpec(shape=(8,), dtype=tf.float32, name=None))>"
            ]
          },
          "metadata": {},
          "execution_count": 9
        }
      ]
    },
    {
      "cell_type": "markdown",
      "source": [
        "## 3. Split data into training and testing datasets"
      ],
      "metadata": {
        "id": "Wc1neuZ8FX3o"
      }
    },
    {
      "cell_type": "code",
      "source": [
        "import numpy as np\n",
        "from tqdm import tqdm\n",
        "\n",
        "X, y = [], []\n",
        "\n",
        "# Convert tensors to numpy arrays\n",
        "for patch, latents in tqdm(parsed_dataset):\n",
        "    X.append(patch.numpy())\n",
        "    y.append(latents.numpy())\n",
        "\n",
        "X = np.array(X)\n",
        "y = np.array(y)"
      ],
      "metadata": {
        "colab": {
          "base_uri": "https://localhost:8080/"
        },
        "id": "LHvZ6usxF1UK",
        "outputId": "cd02db0e-4d1a-40f7-cf11-11df94574ec4"
      },
      "execution_count": 12,
      "outputs": [
        {
          "output_type": "stream",
          "name": "stderr",
          "text": [
            "10546it [00:06, 1540.05it/s]\n"
          ]
        }
      ]
    },
    {
      "cell_type": "code",
      "source": [
        "from sklearn.model_selection import train_test_split\n",
        "\n",
        "# Split numpy arrays with sk-learn\n",
        "X_train, X_test, y_train, y_test = train_test_split(\n",
        "    X, y, test_size=0.3, random_state=42\n",
        ")\n",
        "\n",
        "print(f\"X_train shape: {X_train.shape}\")\n",
        "print(f\"X_test shape: {X_test.shape}\")\n",
        "print(f\"y_train shape: {y_train.shape}\")\n",
        "print(f\"y_test shape: {y_test.shape}\")"
      ],
      "metadata": {
        "colab": {
          "base_uri": "https://localhost:8080/"
        },
        "id": "iVgmTr6AF5KG",
        "outputId": "f61ee36a-bee0-4527-8c8a-0149af1c45aa"
      },
      "execution_count": 16,
      "outputs": [
        {
          "output_type": "stream",
          "name": "stdout",
          "text": [
            "X_train shape: (7382, 3, 3, 12)\n",
            "X_test shape: (3164, 3, 3, 12)\n",
            "y_train shape: (7382, 8)\n",
            "y_test shape: (3164, 8)\n"
          ]
        }
      ]
    },
    {
      "cell_type": "code",
      "source": [
        "# Convert back to a tensor and batch\n",
        "train_ds = tf.data.Dataset.from_tensor_slices((X_train, y_train)).batch(64).prefetch(tf.data.AUTOTUNE)\n",
        "val_ds = tf.data.Dataset.from_tensor_slices((X_test, y_test)).batch(64).prefetch(tf.data.AUTOTUNE)"
      ],
      "metadata": {
        "id": "xGABlPicGfYy"
      },
      "execution_count": 17,
      "outputs": []
    },
    {
      "cell_type": "markdown",
      "source": [
        "## 4. Build and compile CNN"
      ],
      "metadata": {
        "id": "VN_eCHMEHRPU"
      }
    },
    {
      "cell_type": "code",
      "source": [
        "from tensorflow.keras import layers, models\n",
        "\n",
        "# Build the Model\n",
        "def build_model():\n",
        "    model = models.Sequential([\n",
        "        layers.Input(shape=(3, 3, 12)),\n",
        "        layers.Conv2D(64, (2, 2), activation='relu'),\n",
        "        layers.Flatten(),\n",
        "        layers.Dense(64, activation='relu'),\n",
        "        layers.Dense(8)\n",
        "    ])\n",
        "    return model\n",
        "\n",
        "model = build_model()\n",
        "model.summary()"
      ],
      "metadata": {
        "colab": {
          "base_uri": "https://localhost:8080/",
          "height": 257
        },
        "id": "BF1DW40-HhyX",
        "outputId": "0695d2cc-c83f-4454-ff80-80347bb4ef59"
      },
      "execution_count": 46,
      "outputs": [
        {
          "output_type": "display_data",
          "data": {
            "text/plain": [
              "\u001b[1mModel: \"sequential_5\"\u001b[0m\n"
            ],
            "text/html": [
              "<pre style=\"white-space:pre;overflow-x:auto;line-height:normal;font-family:Menlo,'DejaVu Sans Mono',consolas,'Courier New',monospace\"><span style=\"font-weight: bold\">Model: \"sequential_5\"</span>\n",
              "</pre>\n"
            ]
          },
          "metadata": {}
        },
        {
          "output_type": "display_data",
          "data": {
            "text/plain": [
              "┏━━━━━━━━━━━━━━━━━━━━━━━━━━━━━━━━━━━━━━┳━━━━━━━━━━━━━━━━━━━━━━━━━━━━━┳━━━━━━━━━━━━━━━━━┓\n",
              "┃\u001b[1m \u001b[0m\u001b[1mLayer (type)                        \u001b[0m\u001b[1m \u001b[0m┃\u001b[1m \u001b[0m\u001b[1mOutput Shape               \u001b[0m\u001b[1m \u001b[0m┃\u001b[1m \u001b[0m\u001b[1m        Param #\u001b[0m\u001b[1m \u001b[0m┃\n",
              "┡━━━━━━━━━━━━━━━━━━━━━━━━━━━━━━━━━━━━━━╇━━━━━━━━━━━━━━━━━━━━━━━━━━━━━╇━━━━━━━━━━━━━━━━━┩\n",
              "│ conv2d_9 (\u001b[38;5;33mConv2D\u001b[0m)                    │ (\u001b[38;5;45mNone\u001b[0m, \u001b[38;5;34m2\u001b[0m, \u001b[38;5;34m2\u001b[0m, \u001b[38;5;34m64\u001b[0m)            │           \u001b[38;5;34m3,136\u001b[0m │\n",
              "├──────────────────────────────────────┼─────────────────────────────┼─────────────────┤\n",
              "│ flatten_7 (\u001b[38;5;33mFlatten\u001b[0m)                  │ (\u001b[38;5;45mNone\u001b[0m, \u001b[38;5;34m256\u001b[0m)                 │               \u001b[38;5;34m0\u001b[0m │\n",
              "├──────────────────────────────────────┼─────────────────────────────┼─────────────────┤\n",
              "│ dense_14 (\u001b[38;5;33mDense\u001b[0m)                     │ (\u001b[38;5;45mNone\u001b[0m, \u001b[38;5;34m64\u001b[0m)                  │          \u001b[38;5;34m16,448\u001b[0m │\n",
              "├──────────────────────────────────────┼─────────────────────────────┼─────────────────┤\n",
              "│ dense_15 (\u001b[38;5;33mDense\u001b[0m)                     │ (\u001b[38;5;45mNone\u001b[0m, \u001b[38;5;34m8\u001b[0m)                   │             \u001b[38;5;34m520\u001b[0m │\n",
              "└──────────────────────────────────────┴─────────────────────────────┴─────────────────┘\n"
            ],
            "text/html": [
              "<pre style=\"white-space:pre;overflow-x:auto;line-height:normal;font-family:Menlo,'DejaVu Sans Mono',consolas,'Courier New',monospace\">┏━━━━━━━━━━━━━━━━━━━━━━━━━━━━━━━━━━━━━━┳━━━━━━━━━━━━━━━━━━━━━━━━━━━━━┳━━━━━━━━━━━━━━━━━┓\n",
              "┃<span style=\"font-weight: bold\"> Layer (type)                         </span>┃<span style=\"font-weight: bold\"> Output Shape                </span>┃<span style=\"font-weight: bold\">         Param # </span>┃\n",
              "┡━━━━━━━━━━━━━━━━━━━━━━━━━━━━━━━━━━━━━━╇━━━━━━━━━━━━━━━━━━━━━━━━━━━━━╇━━━━━━━━━━━━━━━━━┩\n",
              "│ conv2d_9 (<span style=\"color: #0087ff; text-decoration-color: #0087ff\">Conv2D</span>)                    │ (<span style=\"color: #00d7ff; text-decoration-color: #00d7ff\">None</span>, <span style=\"color: #00af00; text-decoration-color: #00af00\">2</span>, <span style=\"color: #00af00; text-decoration-color: #00af00\">2</span>, <span style=\"color: #00af00; text-decoration-color: #00af00\">64</span>)            │           <span style=\"color: #00af00; text-decoration-color: #00af00\">3,136</span> │\n",
              "├──────────────────────────────────────┼─────────────────────────────┼─────────────────┤\n",
              "│ flatten_7 (<span style=\"color: #0087ff; text-decoration-color: #0087ff\">Flatten</span>)                  │ (<span style=\"color: #00d7ff; text-decoration-color: #00d7ff\">None</span>, <span style=\"color: #00af00; text-decoration-color: #00af00\">256</span>)                 │               <span style=\"color: #00af00; text-decoration-color: #00af00\">0</span> │\n",
              "├──────────────────────────────────────┼─────────────────────────────┼─────────────────┤\n",
              "│ dense_14 (<span style=\"color: #0087ff; text-decoration-color: #0087ff\">Dense</span>)                     │ (<span style=\"color: #00d7ff; text-decoration-color: #00d7ff\">None</span>, <span style=\"color: #00af00; text-decoration-color: #00af00\">64</span>)                  │          <span style=\"color: #00af00; text-decoration-color: #00af00\">16,448</span> │\n",
              "├──────────────────────────────────────┼─────────────────────────────┼─────────────────┤\n",
              "│ dense_15 (<span style=\"color: #0087ff; text-decoration-color: #0087ff\">Dense</span>)                     │ (<span style=\"color: #00d7ff; text-decoration-color: #00d7ff\">None</span>, <span style=\"color: #00af00; text-decoration-color: #00af00\">8</span>)                   │             <span style=\"color: #00af00; text-decoration-color: #00af00\">520</span> │\n",
              "└──────────────────────────────────────┴─────────────────────────────┴─────────────────┘\n",
              "</pre>\n"
            ]
          },
          "metadata": {}
        },
        {
          "output_type": "display_data",
          "data": {
            "text/plain": [
              "\u001b[1m Total params: \u001b[0m\u001b[38;5;34m20,104\u001b[0m (78.53 KB)\n"
            ],
            "text/html": [
              "<pre style=\"white-space:pre;overflow-x:auto;line-height:normal;font-family:Menlo,'DejaVu Sans Mono',consolas,'Courier New',monospace\"><span style=\"font-weight: bold\"> Total params: </span><span style=\"color: #00af00; text-decoration-color: #00af00\">20,104</span> (78.53 KB)\n",
              "</pre>\n"
            ]
          },
          "metadata": {}
        },
        {
          "output_type": "display_data",
          "data": {
            "text/plain": [
              "\u001b[1m Trainable params: \u001b[0m\u001b[38;5;34m20,104\u001b[0m (78.53 KB)\n"
            ],
            "text/html": [
              "<pre style=\"white-space:pre;overflow-x:auto;line-height:normal;font-family:Menlo,'DejaVu Sans Mono',consolas,'Courier New',monospace\"><span style=\"font-weight: bold\"> Trainable params: </span><span style=\"color: #00af00; text-decoration-color: #00af00\">20,104</span> (78.53 KB)\n",
              "</pre>\n"
            ]
          },
          "metadata": {}
        },
        {
          "output_type": "display_data",
          "data": {
            "text/plain": [
              "\u001b[1m Non-trainable params: \u001b[0m\u001b[38;5;34m0\u001b[0m (0.00 B)\n"
            ],
            "text/html": [
              "<pre style=\"white-space:pre;overflow-x:auto;line-height:normal;font-family:Menlo,'DejaVu Sans Mono',consolas,'Courier New',monospace\"><span style=\"font-weight: bold\"> Non-trainable params: </span><span style=\"color: #00af00; text-decoration-color: #00af00\">0</span> (0.00 B)\n",
              "</pre>\n"
            ]
          },
          "metadata": {}
        }
      ]
    },
    {
      "cell_type": "code",
      "source": [
        "# Compile the Model\n",
        "model.compile(\n",
        "    optimizer='adam',\n",
        "    loss='mse',\n",
        "    metrics=['mae']\n",
        ")"
      ],
      "metadata": {
        "id": "ua2WTv0iHkYB"
      },
      "execution_count": 47,
      "outputs": []
    },
    {
      "cell_type": "code",
      "source": [
        "history = model.fit(\n",
        "    train_ds,\n",
        "    validation_data=val_ds,\n",
        "    epochs=100\n",
        ")"
      ],
      "metadata": {
        "colab": {
          "base_uri": "https://localhost:8080/"
        },
        "id": "kMdedQm6Hpkw",
        "outputId": "5941d3d6-cbd6-471c-ab98-55db47bc9d62"
      },
      "execution_count": 48,
      "outputs": [
        {
          "output_type": "stream",
          "name": "stdout",
          "text": [
            "Epoch 1/100\n",
            "\u001b[1m116/116\u001b[0m \u001b[32m━━━━━━━━━━━━━━━━━━━━\u001b[0m\u001b[37m\u001b[0m \u001b[1m2s\u001b[0m 6ms/step - loss: 22509.7168 - mae: 92.9139 - val_loss: 600.5873 - val_mae: 18.6534\n",
            "Epoch 2/100\n",
            "\u001b[1m116/116\u001b[0m \u001b[32m━━━━━━━━━━━━━━━━━━━━\u001b[0m\u001b[37m\u001b[0m \u001b[1m0s\u001b[0m 3ms/step - loss: 496.0909 - mae: 16.8658 - val_loss: 288.4759 - val_mae: 13.0486\n",
            "Epoch 3/100\n",
            "\u001b[1m116/116\u001b[0m \u001b[32m━━━━━━━━━━━━━━━━━━━━\u001b[0m\u001b[37m\u001b[0m \u001b[1m1s\u001b[0m 8ms/step - loss: 268.6836 - mae: 12.5173 - val_loss: 208.0623 - val_mae: 11.0991\n",
            "Epoch 4/100\n",
            "\u001b[1m116/116\u001b[0m \u001b[32m━━━━━━━━━━━━━━━━━━━━\u001b[0m\u001b[37m\u001b[0m \u001b[1m0s\u001b[0m 4ms/step - loss: 202.3556 - mae: 10.8981 - val_loss: 174.5815 - val_mae: 10.2277\n",
            "Epoch 5/100\n",
            "\u001b[1m116/116\u001b[0m \u001b[32m━━━━━━━━━━━━━━━━━━━━\u001b[0m\u001b[37m\u001b[0m \u001b[1m0s\u001b[0m 3ms/step - loss: 169.3286 - mae: 9.9822 - val_loss: 141.3204 - val_mae: 9.1425\n",
            "Epoch 6/100\n",
            "\u001b[1m116/116\u001b[0m \u001b[32m━━━━━━━━━━━━━━━━━━━━\u001b[0m\u001b[37m\u001b[0m \u001b[1m0s\u001b[0m 3ms/step - loss: 143.9317 - mae: 9.2044 - val_loss: 128.2736 - val_mae: 8.7038\n",
            "Epoch 7/100\n",
            "\u001b[1m116/116\u001b[0m \u001b[32m━━━━━━━━━━━━━━━━━━━━\u001b[0m\u001b[37m\u001b[0m \u001b[1m1s\u001b[0m 4ms/step - loss: 120.4772 - mae: 8.4179 - val_loss: 105.9960 - val_mae: 7.9371\n",
            "Epoch 8/100\n",
            "\u001b[1m116/116\u001b[0m \u001b[32m━━━━━━━━━━━━━━━━━━━━\u001b[0m\u001b[37m\u001b[0m \u001b[1m0s\u001b[0m 4ms/step - loss: 106.6086 - mae: 7.9042 - val_loss: 98.4697 - val_mae: 7.6539\n",
            "Epoch 9/100\n",
            "\u001b[1m116/116\u001b[0m \u001b[32m━━━━━━━━━━━━━━━━━━━━\u001b[0m\u001b[37m\u001b[0m \u001b[1m0s\u001b[0m 3ms/step - loss: 99.8983 - mae: 7.6540 - val_loss: 93.5906 - val_mae: 7.4647\n",
            "Epoch 10/100\n",
            "\u001b[1m116/116\u001b[0m \u001b[32m━━━━━━━━━━━━━━━━━━━━\u001b[0m\u001b[37m\u001b[0m \u001b[1m0s\u001b[0m 3ms/step - loss: 93.8010 - mae: 7.4443 - val_loss: 89.8455 - val_mae: 7.3296\n",
            "Epoch 11/100\n",
            "\u001b[1m116/116\u001b[0m \u001b[32m━━━━━━━━━━━━━━━━━━━━\u001b[0m\u001b[37m\u001b[0m \u001b[1m0s\u001b[0m 3ms/step - loss: 89.6211 - mae: 7.3006 - val_loss: 88.2498 - val_mae: 7.3052\n",
            "Epoch 12/100\n",
            "\u001b[1m116/116\u001b[0m \u001b[32m━━━━━━━━━━━━━━━━━━━━\u001b[0m\u001b[37m\u001b[0m \u001b[1m0s\u001b[0m 3ms/step - loss: 85.8708 - mae: 7.1744 - val_loss: 91.4195 - val_mae: 7.4983\n",
            "Epoch 13/100\n",
            "\u001b[1m116/116\u001b[0m \u001b[32m━━━━━━━━━━━━━━━━━━━━\u001b[0m\u001b[37m\u001b[0m \u001b[1m1s\u001b[0m 3ms/step - loss: 80.6192 - mae: 6.9532 - val_loss: 80.7266 - val_mae: 7.0146\n",
            "Epoch 14/100\n",
            "\u001b[1m116/116\u001b[0m \u001b[32m━━━━━━━━━━━━━━━━━━━━\u001b[0m\u001b[37m\u001b[0m \u001b[1m0s\u001b[0m 3ms/step - loss: 73.1148 - mae: 6.6078 - val_loss: 65.0833 - val_mae: 6.2605\n",
            "Epoch 15/100\n",
            "\u001b[1m116/116\u001b[0m \u001b[32m━━━━━━━━━━━━━━━━━━━━\u001b[0m\u001b[37m\u001b[0m \u001b[1m0s\u001b[0m 3ms/step - loss: 67.8402 - mae: 6.3717 - val_loss: 58.5567 - val_mae: 5.9533\n",
            "Epoch 16/100\n",
            "\u001b[1m116/116\u001b[0m \u001b[32m━━━━━━━━━━━━━━━━━━━━\u001b[0m\u001b[37m\u001b[0m \u001b[1m1s\u001b[0m 3ms/step - loss: 65.5906 - mae: 6.2836 - val_loss: 57.0917 - val_mae: 5.9033\n",
            "Epoch 17/100\n",
            "\u001b[1m116/116\u001b[0m \u001b[32m━━━━━━━━━━━━━━━━━━━━\u001b[0m\u001b[37m\u001b[0m \u001b[1m1s\u001b[0m 4ms/step - loss: 63.4356 - mae: 6.1916 - val_loss: 55.1881 - val_mae: 5.8256\n",
            "Epoch 18/100\n",
            "\u001b[1m116/116\u001b[0m \u001b[32m━━━━━━━━━━━━━━━━━━━━\u001b[0m\u001b[37m\u001b[0m \u001b[1m1s\u001b[0m 4ms/step - loss: 59.9728 - mae: 6.0229 - val_loss: 50.7544 - val_mae: 5.5806\n",
            "Epoch 19/100\n",
            "\u001b[1m116/116\u001b[0m \u001b[32m━━━━━━━━━━━━━━━━━━━━\u001b[0m\u001b[37m\u001b[0m \u001b[1m0s\u001b[0m 3ms/step - loss: 55.1411 - mae: 5.7629 - val_loss: 50.0557 - val_mae: 5.5189\n",
            "Epoch 20/100\n",
            "\u001b[1m116/116\u001b[0m \u001b[32m━━━━━━━━━━━━━━━━━━━━\u001b[0m\u001b[37m\u001b[0m \u001b[1m0s\u001b[0m 3ms/step - loss: 52.0912 - mae: 5.5961 - val_loss: 47.2298 - val_mae: 5.3699\n",
            "Epoch 21/100\n",
            "\u001b[1m116/116\u001b[0m \u001b[32m━━━━━━━━━━━━━━━━━━━━\u001b[0m\u001b[37m\u001b[0m \u001b[1m0s\u001b[0m 3ms/step - loss: 49.8525 - mae: 5.4689 - val_loss: 37.4457 - val_mae: 4.7320\n",
            "Epoch 22/100\n",
            "\u001b[1m116/116\u001b[0m \u001b[32m━━━━━━━━━━━━━━━━━━━━\u001b[0m\u001b[37m\u001b[0m \u001b[1m0s\u001b[0m 3ms/step - loss: 46.0580 - mae: 5.2384 - val_loss: 32.3705 - val_mae: 4.3680\n",
            "Epoch 23/100\n",
            "\u001b[1m116/116\u001b[0m \u001b[32m━━━━━━━━━━━━━━━━━━━━\u001b[0m\u001b[37m\u001b[0m \u001b[1m1s\u001b[0m 5ms/step - loss: 43.7995 - mae: 5.0989 - val_loss: 31.0328 - val_mae: 4.2746\n",
            "Epoch 24/100\n",
            "\u001b[1m116/116\u001b[0m \u001b[32m━━━━━━━━━━━━━━━━━━━━\u001b[0m\u001b[37m\u001b[0m \u001b[1m1s\u001b[0m 5ms/step - loss: 42.8571 - mae: 5.0471 - val_loss: 30.2001 - val_mae: 4.2220\n",
            "Epoch 25/100\n",
            "\u001b[1m116/116\u001b[0m \u001b[32m━━━━━━━━━━━━━━━━━━━━\u001b[0m\u001b[37m\u001b[0m \u001b[1m1s\u001b[0m 4ms/step - loss: 41.6401 - mae: 4.9767 - val_loss: 29.0861 - val_mae: 4.1496\n",
            "Epoch 26/100\n",
            "\u001b[1m116/116\u001b[0m \u001b[32m━━━━━━━━━━━━━━━━━━━━\u001b[0m\u001b[37m\u001b[0m \u001b[1m1s\u001b[0m 5ms/step - loss: 40.1504 - mae: 4.8876 - val_loss: 27.8652 - val_mae: 4.0675\n",
            "Epoch 27/100\n",
            "\u001b[1m116/116\u001b[0m \u001b[32m━━━━━━━━━━━━━━━━━━━━\u001b[0m\u001b[37m\u001b[0m \u001b[1m0s\u001b[0m 4ms/step - loss: 38.7838 - mae: 4.8056 - val_loss: 27.7080 - val_mae: 4.0691\n",
            "Epoch 28/100\n",
            "\u001b[1m116/116\u001b[0m \u001b[32m━━━━━━━━━━━━━━━━━━━━\u001b[0m\u001b[37m\u001b[0m \u001b[1m1s\u001b[0m 3ms/step - loss: 37.4488 - mae: 4.7271 - val_loss: 27.7896 - val_mae: 4.0872\n",
            "Epoch 29/100\n",
            "\u001b[1m116/116\u001b[0m \u001b[32m━━━━━━━━━━━━━━━━━━━━\u001b[0m\u001b[37m\u001b[0m \u001b[1m0s\u001b[0m 3ms/step - loss: 35.7912 - mae: 4.6270 - val_loss: 27.6217 - val_mae: 4.0756\n",
            "Epoch 30/100\n",
            "\u001b[1m116/116\u001b[0m \u001b[32m━━━━━━━━━━━━━━━━━━━━\u001b[0m\u001b[37m\u001b[0m \u001b[1m0s\u001b[0m 3ms/step - loss: 34.1305 - mae: 4.5210 - val_loss: 27.3395 - val_mae: 4.0699\n",
            "Epoch 31/100\n",
            "\u001b[1m116/116\u001b[0m \u001b[32m━━━━━━━━━━━━━━━━━━━━\u001b[0m\u001b[37m\u001b[0m \u001b[1m0s\u001b[0m 3ms/step - loss: 33.1475 - mae: 4.4613 - val_loss: 57.7363 - val_mae: 6.2712\n",
            "Epoch 32/100\n",
            "\u001b[1m116/116\u001b[0m \u001b[32m━━━━━━━━━━━━━━━━━━━━\u001b[0m\u001b[37m\u001b[0m \u001b[1m0s\u001b[0m 3ms/step - loss: 34.2567 - mae: 4.5734 - val_loss: 26.4695 - val_mae: 4.0177\n",
            "Epoch 33/100\n",
            "\u001b[1m116/116\u001b[0m \u001b[32m━━━━━━━━━━━━━━━━━━━━\u001b[0m\u001b[37m\u001b[0m \u001b[1m0s\u001b[0m 3ms/step - loss: 30.2638 - mae: 4.2745 - val_loss: 27.1630 - val_mae: 4.0824\n",
            "Epoch 34/100\n",
            "\u001b[1m116/116\u001b[0m \u001b[32m━━━━━━━━━━━━━━━━━━━━\u001b[0m\u001b[37m\u001b[0m \u001b[1m1s\u001b[0m 3ms/step - loss: 29.4465 - mae: 4.2223 - val_loss: 25.7204 - val_mae: 3.9709\n",
            "Epoch 35/100\n",
            "\u001b[1m116/116\u001b[0m \u001b[32m━━━━━━━━━━━━━━━━━━━━\u001b[0m\u001b[37m\u001b[0m \u001b[1m1s\u001b[0m 6ms/step - loss: 28.2089 - mae: 4.1351 - val_loss: 24.9139 - val_mae: 3.9115\n",
            "Epoch 36/100\n",
            "\u001b[1m116/116\u001b[0m \u001b[32m━━━━━━━━━━━━━━━━━━━━\u001b[0m\u001b[37m\u001b[0m \u001b[1m0s\u001b[0m 4ms/step - loss: 27.0845 - mae: 4.0543 - val_loss: 24.3833 - val_mae: 3.8755\n",
            "Epoch 37/100\n",
            "\u001b[1m116/116\u001b[0m \u001b[32m━━━━━━━━━━━━━━━━━━━━\u001b[0m\u001b[37m\u001b[0m \u001b[1m1s\u001b[0m 6ms/step - loss: 26.0321 - mae: 3.9765 - val_loss: 24.2069 - val_mae: 3.8705\n",
            "Epoch 38/100\n",
            "\u001b[1m116/116\u001b[0m \u001b[32m━━━━━━━━━━━━━━━━━━━━\u001b[0m\u001b[37m\u001b[0m \u001b[1m1s\u001b[0m 6ms/step - loss: 25.0699 - mae: 3.9037 - val_loss: 23.9363 - val_mae: 3.8581\n",
            "Epoch 39/100\n",
            "\u001b[1m116/116\u001b[0m \u001b[32m━━━━━━━━━━━━━━━━━━━━\u001b[0m\u001b[37m\u001b[0m \u001b[1m1s\u001b[0m 3ms/step - loss: 23.9598 - mae: 3.8197 - val_loss: 23.7910 - val_mae: 3.8563\n",
            "Epoch 40/100\n",
            "\u001b[1m116/116\u001b[0m \u001b[32m━━━━━━━━━━━━━━━━━━━━\u001b[0m\u001b[37m\u001b[0m \u001b[1m1s\u001b[0m 3ms/step - loss: 22.7840 - mae: 3.7255 - val_loss: 22.9439 - val_mae: 3.7891\n",
            "Epoch 41/100\n",
            "\u001b[1m116/116\u001b[0m \u001b[32m━━━━━━━━━━━━━━━━━━━━\u001b[0m\u001b[37m\u001b[0m \u001b[1m1s\u001b[0m 3ms/step - loss: 21.5589 - mae: 3.6198 - val_loss: 20.9808 - val_mae: 3.6092\n",
            "Epoch 42/100\n",
            "\u001b[1m116/116\u001b[0m \u001b[32m━━━━━━━━━━━━━━━━━━━━\u001b[0m\u001b[37m\u001b[0m \u001b[1m1s\u001b[0m 3ms/step - loss: 20.5587 - mae: 3.5278 - val_loss: 18.4151 - val_mae: 3.3588\n",
            "Epoch 43/100\n",
            "\u001b[1m116/116\u001b[0m \u001b[32m━━━━━━━━━━━━━━━━━━━━\u001b[0m\u001b[37m\u001b[0m \u001b[1m0s\u001b[0m 3ms/step - loss: 19.5912 - mae: 3.4407 - val_loss: 15.4660 - val_mae: 3.0475\n",
            "Epoch 44/100\n",
            "\u001b[1m116/116\u001b[0m \u001b[32m━━━━━━━━━━━━━━━━━━━━\u001b[0m\u001b[37m\u001b[0m \u001b[1m1s\u001b[0m 4ms/step - loss: 18.5258 - mae: 3.3391 - val_loss: 14.1414 - val_mae: 2.8978\n",
            "Epoch 45/100\n",
            "\u001b[1m116/116\u001b[0m \u001b[32m━━━━━━━━━━━━━━━━━━━━\u001b[0m\u001b[37m\u001b[0m \u001b[1m0s\u001b[0m 4ms/step - loss: 17.7145 - mae: 3.2598 - val_loss: 14.8901 - val_mae: 2.9887\n",
            "Epoch 46/100\n",
            "\u001b[1m116/116\u001b[0m \u001b[32m━━━━━━━━━━━━━━━━━━━━\u001b[0m\u001b[37m\u001b[0m \u001b[1m1s\u001b[0m 5ms/step - loss: 17.5951 - mae: 3.2515 - val_loss: 15.9985 - val_mae: 3.1253\n",
            "Epoch 47/100\n",
            "\u001b[1m116/116\u001b[0m \u001b[32m━━━━━━━━━━━━━━━━━━━━\u001b[0m\u001b[37m\u001b[0m \u001b[1m1s\u001b[0m 5ms/step - loss: 17.4132 - mae: 3.2422 - val_loss: 15.3841 - val_mae: 3.0746\n",
            "Epoch 48/100\n",
            "\u001b[1m116/116\u001b[0m \u001b[32m━━━━━━━━━━━━━━━━━━━━\u001b[0m\u001b[37m\u001b[0m \u001b[1m1s\u001b[0m 5ms/step - loss: 16.8968 - mae: 3.1970 - val_loss: 12.9384 - val_mae: 2.7919\n",
            "Epoch 49/100\n",
            "\u001b[1m116/116\u001b[0m \u001b[32m━━━━━━━━━━━━━━━━━━━━\u001b[0m\u001b[37m\u001b[0m \u001b[1m1s\u001b[0m 5ms/step - loss: 15.9319 - mae: 3.1011 - val_loss: 11.7701 - val_mae: 2.6494\n",
            "Epoch 50/100\n",
            "\u001b[1m116/116\u001b[0m \u001b[32m━━━━━━━━━━━━━━━━━━━━\u001b[0m\u001b[37m\u001b[0m \u001b[1m0s\u001b[0m 4ms/step - loss: 15.3515 - mae: 3.0397 - val_loss: 12.1631 - val_mae: 2.7011\n",
            "Epoch 51/100\n",
            "\u001b[1m116/116\u001b[0m \u001b[32m━━━━━━━━━━━━━━━━━━━━\u001b[0m\u001b[37m\u001b[0m \u001b[1m1s\u001b[0m 3ms/step - loss: 15.2531 - mae: 3.0342 - val_loss: 13.3788 - val_mae: 2.8487\n",
            "Epoch 52/100\n",
            "\u001b[1m116/116\u001b[0m \u001b[32m━━━━━━━━━━━━━━━━━━━━\u001b[0m\u001b[37m\u001b[0m \u001b[1m0s\u001b[0m 3ms/step - loss: 15.3141 - mae: 3.0458 - val_loss: 13.2336 - val_mae: 2.8442\n",
            "Epoch 53/100\n",
            "\u001b[1m116/116\u001b[0m \u001b[32m━━━━━━━━━━━━━━━━━━━━\u001b[0m\u001b[37m\u001b[0m \u001b[1m0s\u001b[0m 3ms/step - loss: 14.9357 - mae: 3.0111 - val_loss: 11.2964 - val_mae: 2.6030\n",
            "Epoch 54/100\n",
            "\u001b[1m116/116\u001b[0m \u001b[32m━━━━━━━━━━━━━━━━━━━━\u001b[0m\u001b[37m\u001b[0m \u001b[1m0s\u001b[0m 4ms/step - loss: 14.1552 - mae: 2.9278 - val_loss: 10.0927 - val_mae: 2.4416\n",
            "Epoch 55/100\n",
            "\u001b[1m116/116\u001b[0m \u001b[32m━━━━━━━━━━━━━━━━━━━━\u001b[0m\u001b[37m\u001b[0m \u001b[1m1s\u001b[0m 4ms/step - loss: 13.3541 - mae: 2.8380 - val_loss: 10.5397 - val_mae: 2.5033\n",
            "Epoch 56/100\n",
            "\u001b[1m116/116\u001b[0m \u001b[32m━━━━━━━━━━━━━━━━━━━━\u001b[0m\u001b[37m\u001b[0m \u001b[1m0s\u001b[0m 4ms/step - loss: 13.2979 - mae: 2.8342 - val_loss: 11.0501 - val_mae: 2.5813\n",
            "Epoch 57/100\n",
            "\u001b[1m116/116\u001b[0m \u001b[32m━━━━━━━━━━━━━━━━━━━━\u001b[0m\u001b[37m\u001b[0m \u001b[1m0s\u001b[0m 3ms/step - loss: 13.1256 - mae: 2.8180 - val_loss: 10.4656 - val_mae: 2.5143\n",
            "Epoch 58/100\n",
            "\u001b[1m116/116\u001b[0m \u001b[32m━━━━━━━━━━━━━━━━━━━━\u001b[0m\u001b[37m\u001b[0m \u001b[1m1s\u001b[0m 3ms/step - loss: 12.6714 - mae: 2.7705 - val_loss: 9.0252 - val_mae: 2.3011\n",
            "Epoch 59/100\n",
            "\u001b[1m116/116\u001b[0m \u001b[32m━━━━━━━━━━━━━━━━━━━━\u001b[0m\u001b[37m\u001b[0m \u001b[1m0s\u001b[0m 4ms/step - loss: 11.9584 - mae: 2.6863 - val_loss: 8.8618 - val_mae: 2.2771\n",
            "Epoch 60/100\n",
            "\u001b[1m116/116\u001b[0m \u001b[32m━━━━━━━━━━━━━━━━━━━━\u001b[0m\u001b[37m\u001b[0m \u001b[1m1s\u001b[0m 3ms/step - loss: 11.5787 - mae: 2.6412 - val_loss: 10.0424 - val_mae: 2.4377\n",
            "Epoch 61/100\n",
            "\u001b[1m116/116\u001b[0m \u001b[32m━━━━━━━━━━━━━━━━━━━━\u001b[0m\u001b[37m\u001b[0m \u001b[1m0s\u001b[0m 4ms/step - loss: 11.5612 - mae: 2.6414 - val_loss: 10.9405 - val_mae: 2.5767\n",
            "Epoch 62/100\n",
            "\u001b[1m116/116\u001b[0m \u001b[32m━━━━━━━━━━━━━━━━━━━━\u001b[0m\u001b[37m\u001b[0m \u001b[1m1s\u001b[0m 4ms/step - loss: 11.6362 - mae: 2.6564 - val_loss: 10.0240 - val_mae: 2.4669\n",
            "Epoch 63/100\n",
            "\u001b[1m116/116\u001b[0m \u001b[32m━━━━━━━━━━━━━━━━━━━━\u001b[0m\u001b[37m\u001b[0m \u001b[1m1s\u001b[0m 4ms/step - loss: 11.0357 - mae: 2.5852 - val_loss: 9.1430 - val_mae: 2.3345\n",
            "Epoch 64/100\n",
            "\u001b[1m116/116\u001b[0m \u001b[32m━━━━━━━━━━━━━━━━━━━━\u001b[0m\u001b[37m\u001b[0m \u001b[1m1s\u001b[0m 5ms/step - loss: 10.7107 - mae: 2.5438 - val_loss: 9.0111 - val_mae: 2.3022\n",
            "Epoch 65/100\n",
            "\u001b[1m116/116\u001b[0m \u001b[32m━━━━━━━━━━━━━━━━━━━━\u001b[0m\u001b[37m\u001b[0m \u001b[1m1s\u001b[0m 5ms/step - loss: 10.5652 - mae: 2.5235 - val_loss: 9.9635 - val_mae: 2.4444\n",
            "Epoch 66/100\n",
            "\u001b[1m116/116\u001b[0m \u001b[32m━━━━━━━━━━━━━━━━━━━━\u001b[0m\u001b[37m\u001b[0m \u001b[1m1s\u001b[0m 6ms/step - loss: 10.6848 - mae: 2.5393 - val_loss: 9.4776 - val_mae: 2.4045\n",
            "Epoch 67/100\n",
            "\u001b[1m116/116\u001b[0m \u001b[32m━━━━━━━━━━━━━━━━━━━━\u001b[0m\u001b[37m\u001b[0m \u001b[1m1s\u001b[0m 5ms/step - loss: 10.4382 - mae: 2.5173 - val_loss: 8.4832 - val_mae: 2.2536\n",
            "Epoch 68/100\n",
            "\u001b[1m116/116\u001b[0m \u001b[32m━━━━━━━━━━━━━━━━━━━━\u001b[0m\u001b[37m\u001b[0m \u001b[1m1s\u001b[0m 5ms/step - loss: 9.9969 - mae: 2.4634 - val_loss: 7.9725 - val_mae: 2.1680\n",
            "Epoch 69/100\n",
            "\u001b[1m116/116\u001b[0m \u001b[32m━━━━━━━━━━━━━━━━━━━━\u001b[0m\u001b[37m\u001b[0m \u001b[1m1s\u001b[0m 5ms/step - loss: 9.8071 - mae: 2.4350 - val_loss: 8.3654 - val_mae: 2.2030\n",
            "Epoch 70/100\n",
            "\u001b[1m116/116\u001b[0m \u001b[32m━━━━━━━━━━━━━━━━━━━━\u001b[0m\u001b[37m\u001b[0m \u001b[1m1s\u001b[0m 5ms/step - loss: 9.4886 - mae: 2.3910 - val_loss: 8.6573 - val_mae: 2.2571\n",
            "Epoch 71/100\n",
            "\u001b[1m116/116\u001b[0m \u001b[32m━━━━━━━━━━━━━━━━━━━━\u001b[0m\u001b[37m\u001b[0m \u001b[1m1s\u001b[0m 4ms/step - loss: 9.7109 - mae: 2.4265 - val_loss: 7.8623 - val_mae: 2.1526\n",
            "Epoch 72/100\n",
            "\u001b[1m116/116\u001b[0m \u001b[32m━━━━━━━━━━━━━━━━━━━━\u001b[0m\u001b[37m\u001b[0m \u001b[1m1s\u001b[0m 4ms/step - loss: 9.3024 - mae: 2.3749 - val_loss: 7.3528 - val_mae: 2.0711\n",
            "Epoch 73/100\n",
            "\u001b[1m116/116\u001b[0m \u001b[32m━━━━━━━━━━━━━━━━━━━━\u001b[0m\u001b[37m\u001b[0m \u001b[1m1s\u001b[0m 4ms/step - loss: 8.9873 - mae: 2.3335 - val_loss: 7.1863 - val_mae: 2.0433\n",
            "Epoch 74/100\n",
            "\u001b[1m116/116\u001b[0m \u001b[32m━━━━━━━━━━━━━━━━━━━━\u001b[0m\u001b[37m\u001b[0m \u001b[1m0s\u001b[0m 3ms/step - loss: 8.6975 - mae: 2.2911 - val_loss: 7.2946 - val_mae: 2.0639\n",
            "Epoch 75/100\n",
            "\u001b[1m116/116\u001b[0m \u001b[32m━━━━━━━━━━━━━━━━━━━━\u001b[0m\u001b[37m\u001b[0m \u001b[1m0s\u001b[0m 3ms/step - loss: 8.4657 - mae: 2.2578 - val_loss: 7.4112 - val_mae: 2.0992\n",
            "Epoch 76/100\n",
            "\u001b[1m116/116\u001b[0m \u001b[32m━━━━━━━━━━━━━━━━━━━━\u001b[0m\u001b[37m\u001b[0m \u001b[1m1s\u001b[0m 3ms/step - loss: 8.3119 - mae: 2.2384 - val_loss: 7.4914 - val_mae: 2.1165\n",
            "Epoch 77/100\n",
            "\u001b[1m116/116\u001b[0m \u001b[32m━━━━━━━━━━━━━━━━━━━━\u001b[0m\u001b[37m\u001b[0m \u001b[1m1s\u001b[0m 4ms/step - loss: 8.3977 - mae: 2.2558 - val_loss: 7.4319 - val_mae: 2.1083\n",
            "Epoch 78/100\n",
            "\u001b[1m116/116\u001b[0m \u001b[32m━━━━━━━━━━━━━━━━━━━━\u001b[0m\u001b[37m\u001b[0m \u001b[1m1s\u001b[0m 4ms/step - loss: 8.2586 - mae: 2.2372 - val_loss: 7.3159 - val_mae: 2.0974\n",
            "Epoch 79/100\n",
            "\u001b[1m116/116\u001b[0m \u001b[32m━━━━━━━━━━━━━━━━━━━━\u001b[0m\u001b[37m\u001b[0m \u001b[1m0s\u001b[0m 4ms/step - loss: 8.0111 - mae: 2.2008 - val_loss: 7.3525 - val_mae: 2.1133\n",
            "Epoch 80/100\n",
            "\u001b[1m116/116\u001b[0m \u001b[32m━━━━━━━━━━━━━━━━━━━━\u001b[0m\u001b[37m\u001b[0m \u001b[1m1s\u001b[0m 5ms/step - loss: 7.7889 - mae: 2.1661 - val_loss: 7.4165 - val_mae: 2.1366\n",
            "Epoch 81/100\n",
            "\u001b[1m116/116\u001b[0m \u001b[32m━━━━━━━━━━━━━━━━━━━━\u001b[0m\u001b[37m\u001b[0m \u001b[1m1s\u001b[0m 6ms/step - loss: 7.5896 - mae: 2.1388 - val_loss: 7.6298 - val_mae: 2.1770\n",
            "Epoch 82/100\n",
            "\u001b[1m116/116\u001b[0m \u001b[32m━━━━━━━━━━━━━━━━━━━━\u001b[0m\u001b[37m\u001b[0m \u001b[1m1s\u001b[0m 6ms/step - loss: 7.5881 - mae: 2.1409 - val_loss: 7.7072 - val_mae: 2.2045\n",
            "Epoch 83/100\n",
            "\u001b[1m116/116\u001b[0m \u001b[32m━━━━━━━━━━━━━━━━━━━━\u001b[0m\u001b[37m\u001b[0m \u001b[1m0s\u001b[0m 3ms/step - loss: 7.6163 - mae: 2.1475 - val_loss: 7.8409 - val_mae: 2.2360\n",
            "Epoch 84/100\n",
            "\u001b[1m116/116\u001b[0m \u001b[32m━━━━━━━━━━━━━━━━━━━━\u001b[0m\u001b[37m\u001b[0m \u001b[1m1s\u001b[0m 3ms/step - loss: 7.5335 - mae: 2.1346 - val_loss: 7.7332 - val_mae: 2.2330\n",
            "Epoch 85/100\n",
            "\u001b[1m116/116\u001b[0m \u001b[32m━━━━━━━━━━━━━━━━━━━━\u001b[0m\u001b[37m\u001b[0m \u001b[1m1s\u001b[0m 3ms/step - loss: 7.3998 - mae: 2.1141 - val_loss: 7.8000 - val_mae: 2.2414\n",
            "Epoch 86/100\n",
            "\u001b[1m116/116\u001b[0m \u001b[32m━━━━━━━━━━━━━━━━━━━━\u001b[0m\u001b[37m\u001b[0m \u001b[1m0s\u001b[0m 3ms/step - loss: 7.0968 - mae: 2.0717 - val_loss: 7.5277 - val_mae: 2.1801\n",
            "Epoch 87/100\n",
            "\u001b[1m116/116\u001b[0m \u001b[32m━━━━━━━━━━━━━━━━━━━━\u001b[0m\u001b[37m\u001b[0m \u001b[1m1s\u001b[0m 3ms/step - loss: 7.0403 - mae: 2.0613 - val_loss: 7.6209 - val_mae: 2.1818\n",
            "Epoch 88/100\n",
            "\u001b[1m116/116\u001b[0m \u001b[32m━━━━━━━━━━━━━━━━━━━━\u001b[0m\u001b[37m\u001b[0m \u001b[1m1s\u001b[0m 5ms/step - loss: 6.8292 - mae: 2.0284 - val_loss: 7.2850 - val_mae: 2.1171\n",
            "Epoch 89/100\n",
            "\u001b[1m116/116\u001b[0m \u001b[32m━━━━━━━━━━━━━━━━━━━━\u001b[0m\u001b[37m\u001b[0m \u001b[1m1s\u001b[0m 5ms/step - loss: 6.8239 - mae: 2.0273 - val_loss: 7.1832 - val_mae: 2.1007\n",
            "Epoch 90/100\n",
            "\u001b[1m116/116\u001b[0m \u001b[32m━━━━━━━━━━━━━━━━━━━━\u001b[0m\u001b[37m\u001b[0m \u001b[1m1s\u001b[0m 5ms/step - loss: 6.7083 - mae: 2.0084 - val_loss: 7.2537 - val_mae: 2.1196\n",
            "Epoch 91/100\n",
            "\u001b[1m116/116\u001b[0m \u001b[32m━━━━━━━━━━━━━━━━━━━━\u001b[0m\u001b[37m\u001b[0m \u001b[1m1s\u001b[0m 5ms/step - loss: 6.5445 - mae: 1.9822 - val_loss: 7.2606 - val_mae: 2.1205\n",
            "Epoch 92/100\n",
            "\u001b[1m116/116\u001b[0m \u001b[32m━━━━━━━━━━━━━━━━━━━━\u001b[0m\u001b[37m\u001b[0m \u001b[1m0s\u001b[0m 4ms/step - loss: 6.4007 - mae: 1.9600 - val_loss: 7.4572 - val_mae: 2.1534\n",
            "Epoch 93/100\n",
            "\u001b[1m116/116\u001b[0m \u001b[32m━━━━━━━━━━━━━━━━━━━━\u001b[0m\u001b[37m\u001b[0m \u001b[1m1s\u001b[0m 3ms/step - loss: 6.2714 - mae: 1.9398 - val_loss: 7.3334 - val_mae: 2.1416\n",
            "Epoch 94/100\n",
            "\u001b[1m116/116\u001b[0m \u001b[32m━━━━━━━━━━━━━━━━━━━━\u001b[0m\u001b[37m\u001b[0m \u001b[1m0s\u001b[0m 3ms/step - loss: 6.2810 - mae: 1.9416 - val_loss: 7.2594 - val_mae: 2.1305\n",
            "Epoch 95/100\n",
            "\u001b[1m116/116\u001b[0m \u001b[32m━━━━━━━━━━━━━━━━━━━━\u001b[0m\u001b[37m\u001b[0m \u001b[1m0s\u001b[0m 4ms/step - loss: 6.2812 - mae: 1.9421 - val_loss: 7.2434 - val_mae: 2.1230\n",
            "Epoch 96/100\n",
            "\u001b[1m116/116\u001b[0m \u001b[32m━━━━━━━━━━━━━━━━━━━━\u001b[0m\u001b[37m\u001b[0m \u001b[1m0s\u001b[0m 3ms/step - loss: 6.2309 - mae: 1.9348 - val_loss: 7.1773 - val_mae: 2.0962\n",
            "Epoch 97/100\n",
            "\u001b[1m116/116\u001b[0m \u001b[32m━━━━━━━━━━━━━━━━━━━━\u001b[0m\u001b[37m\u001b[0m \u001b[1m0s\u001b[0m 3ms/step - loss: 6.1118 - mae: 1.9168 - val_loss: 6.9611 - val_mae: 2.0489\n",
            "Epoch 98/100\n",
            "\u001b[1m116/116\u001b[0m \u001b[32m━━━━━━━━━━━━━━━━━━━━\u001b[0m\u001b[37m\u001b[0m \u001b[1m1s\u001b[0m 4ms/step - loss: 5.9843 - mae: 1.8963 - val_loss: 6.4493 - val_mae: 1.9702\n",
            "Epoch 99/100\n",
            "\u001b[1m116/116\u001b[0m \u001b[32m━━━━━━━━━━━━━━━━━━━━\u001b[0m\u001b[37m\u001b[0m \u001b[1m1s\u001b[0m 3ms/step - loss: 5.8116 - mae: 1.8681 - val_loss: 6.6156 - val_mae: 2.0070\n",
            "Epoch 100/100\n",
            "\u001b[1m116/116\u001b[0m \u001b[32m━━━━━━━━━━━━━━━━━━━━\u001b[0m\u001b[37m\u001b[0m \u001b[1m0s\u001b[0m 3ms/step - loss: 5.7679 - mae: 1.8609 - val_loss: 6.7232 - val_mae: 2.0463\n"
          ]
        }
      ]
    },
    {
      "cell_type": "code",
      "source": [
        "plt.plot(history.history['loss'][1:], label='Train Loss')\n",
        "plt.plot(history.history['val_loss'][1:], label='Validation Loss')\n",
        "plt.xlabel('Epoch')\n",
        "plt.ylabel('MSE')\n",
        "plt.title('Train vs Test Loss')\n",
        "plt.grid(True)\n",
        "plt.legend()\n",
        "plt.show()"
      ],
      "metadata": {
        "colab": {
          "base_uri": "https://localhost:8080/",
          "height": 472
        },
        "id": "f7Kkdw8nNLxU",
        "outputId": "5a78cb04-a64f-4fb9-b981-e02b6e10b06f"
      },
      "execution_count": 51,
      "outputs": [
        {
          "output_type": "display_data",
          "data": {
            "text/plain": [
              "<Figure size 640x480 with 1 Axes>"
            ],
            "image/png": "[encoded data removed]"
          },
          "metadata": {}
        }
      ]
    }
  ]
}